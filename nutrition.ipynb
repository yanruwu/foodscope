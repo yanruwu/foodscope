{
 "cells": [
  {
   "cell_type": "code",
   "execution_count": 2,
   "metadata": {},
   "outputs": [],
   "source": [
    "import requests\n",
    "import os\n",
    "import pandas as pd\n",
    "from tqdm import tqdm\n",
    "\n",
    "import dotenv\n",
    "dotenv.load_dotenv()\n",
    "\n",
    "def get_nutrients(ing_list, serving_size):\n",
    "    \"\"\"Obtiene datos nutricionales de una lista de ingredientes usando la API de EDAMAM.\n",
    "\n",
    "    Esta función envía una lista de ingredientes a la API de EDAMAM para obtener información\n",
    "    nutricional detallada para cada ingrediente y ajusta los datos según el tamaño de porción.\n",
    "\n",
    "    Args:\n",
    "        ing_list (list): Lista de ingredientes en formato de texto.\n",
    "        serving_size (int): Tamaño de porción para ajustar los valores nutricionales.\n",
    "\n",
    "    Returns:\n",
    "        pd.DataFrame: DataFrame con los nutrientes de cada ingrediente, incluyendo:\n",
    "            - 'Ingredient' (str): Nombre del ingrediente.\n",
    "            - 'Weight (g)' (float): Peso en gramos del ingrediente ajustado al tamaño de porción.\n",
    "            - 'Calories (kcal)' (float): Calorías por porción.\n",
    "            - 'Protein (g)' (float): Proteína por porción.\n",
    "            - 'Fat (g)' (float): Grasas por porción.\n",
    "            - 'Carbohydrates (g)' (float): Carbohidratos por porción.\n",
    "            - 'Sugar (g)' (float): Azúcar por porción.\n",
    "            - 'Fiber (g)' (float): Fibra por porción.\n",
    "            - 'Serving weight (g)' (float): Peso total ajustado al tamaño de porción.\n",
    "\n",
    "    Raises:\n",
    "        HTTPError: Si hay un problema en la solicitud a la API de EDAMAM.\n",
    "    \"\"\"\n",
    "    url = \"https://api.edamam.com/api/nutrition-details\"\n",
    "\n",
    "\n",
    "    headers = {\n",
    "        \"Content-Type\": \"application/json\"\n",
    "    }\n",
    "\n",
    "    data = {\n",
    "        \"ingr\": ing_list\n",
    "    }\n",
    "\n",
    "    response = requests.post(url, headers=headers, \n",
    "            params={\"app_id\": os.getenv('edamam_session_id'), \"app_key\": os.getenv('edamam_api_key')}, json=data)\n",
    "\n",
    "    if response.status_code == 200:\n",
    "        nutrition_data = response.json()\n",
    "        nutrient_list = []\n",
    "        for ingredient in nutrition_data.get(\"ingredients\", []):\n",
    "            try:\n",
    "                 ingredient.get(\"parsed\")[0] # Para aquellos ingredientes que la api no reconoce\n",
    "            except:\n",
    "                continue\n",
    "            ingredient_name = ingredient.get(\"parsed\")[0].get(\"foodMatch\")\n",
    "            nutrients = ingredient.get(\"parsed\")[0].get(\"nutrients\")\n",
    "            weight = ingredient.get(\"parsed\")[0].get(\"weight\")\n",
    "            total_weight = nutrition_data.get(\"totalWeight\")\n",
    "\n",
    "            calories = nutrients.get(\"ENERC_KCAL\")[\"quantity\"]\n",
    "            protein = nutrients.get(\"PROCNT\")[\"quantity\"]\n",
    "            fat = nutrients.get(\"FAT\")[\"quantity\"]\n",
    "            carbs = nutrients.get(\"CHOCDF\")[\"quantity\"]\n",
    "            try:\n",
    "                fiber = nutrients.get(\"FIBTG\")[\"quantity\"]\n",
    "            except:\n",
    "                fiber = 0\n",
    "            try:\n",
    "                sugar = nutrients.get(\"SUGAR\")[\"quantity\"]\n",
    "            except:\n",
    "                sugar = 0\n",
    "           \n",
    "            nutrient_list.append({\n",
    "                \"Ingredient\": ingredient_name,\n",
    "                \"Weight (g)\" : weight/serving_size,\n",
    "                \"Calories (kcal)\": calories/serving_size,\n",
    "                \"Protein (g)\": protein/serving_size,\n",
    "                \"Fat (g)\": fat/serving_size,\n",
    "                \"Carbohydrates (g)\": carbs/serving_size,\n",
    "                \"Sugar (g)\" : sugar/serving_size,\n",
    "                \"Fiber (g)\" : fiber/serving_size,\n",
    "                \"Serving weight (g)\" : total_weight/serving_size\n",
    "            })\n",
    "        nutrients_df = pd.DataFrame(nutrient_list)\n",
    "        return nutrients_df\n",
    "\n",
    "    else:\n",
    "        print(\"Error:\", response.status_code, response.json())\n",
    "        return None"
   ]
  },
  {
   "cell_type": "code",
   "execution_count": 3,
   "metadata": {},
   "outputs": [],
   "source": [
    "from deep_translator import GoogleTranslator\n",
    "\n",
    "def translate_es_en(text):\n",
    "    return GoogleTranslator(source='es', target='en').translate(text)"
   ]
  },
  {
   "cell_type": "code",
   "execution_count": null,
   "metadata": {},
   "outputs": [
    {
     "name": "stdout",
     "output_type": "stream",
     "text": [
      "['Peeled and seeded melon 1.0', 'Liquid cream for cooking 100.0', 'Iberian ham cut into strips 120.0 g']\n",
      "['Peeled and chopped onion 1.0', 'Peeled and chopped carrot 3.0', 'Extra virgin olive oil 100.0 g', 'Egg 3.0', 'Garlic clove 3.0', 'Basmati rice 350.0 g', 'Water 800.0 ml']\n",
      "['Fresh salmon, skinless, in loin 4.0', 'Lime zest and a little juice (for the marinade) 1.0', 'Tomato (for serving) 2.0', 'Red onion (to serve) 1.0', 'Greek yogurt (for serving) 125.0 g']\n",
      "['Bacon slices 200.0 g', 'Shallot 10.0', 'Mushrooms 200.0 g', 'Veal shank 1.2 kg', 'Wheat flour 30.0 g', 'Red wine 750.0 ml', 'Crushed tomato 400.0 g', 'Beef broth 400.0 ml', 'Fresh thyme on branch 2.0', 'Laurel leaf 2.0']\n",
      "['Razors 16.0', 'Chinese chives or fresh garlic 30.0 g', 'Lemon juice 8.0 ml']\n",
      "['Butter at room temperature 225.0 g', 'Sugar 125.0 g', 'Apple 1.0', 'Chopped walnuts 50.0 g', 'Wheat flour 300.0 g', 'Egg 1.0']\n",
      "['Pear tomato 700.0 g', 'Hard bread 60.0 g']\n",
      "['Butter at room temperature 100.0 g', 'Sugar 125.0 g', 'Vanilla pod 1.0', 'Eggs L 2.0', 'Pastry flour 160.0 g', 'Potato starch 20.0 g', 'Baking powder 16.0 g', 'Whole milk 20.0 ml', 'Reineta Apple 2.0']\n",
      "['Slice of hard bread 3.0', 'Garlic clove 1.0', 'White wine vinegar 75.0 ml', 'Fish stock or fumet 200.0 ml']\n",
      "['Loaf of bread (crumb weight) 40.0 g', 'Ricotta cheese 200.0 g', 'Parmesan cheese 100.0 g', 'Nuts 6.0', 'Garlic clove 1.0', 'Fresh basil, leaves 6.0', 'Extra virgin olive oil 100.0 ml']\n",
      "['Butter 120.0 g', 'Water 300.0 ml', 'Wheat flour 100.0 g', 'Egg 6.0', 'Vanilla extract 5.0 g', 'Liquid cream 300.0 ml', 'Sugar 50.0 g', 'Salt 3.0 g']\n",
      "['Chickpea flour 150.0 g', 'Onion powder or dehydrated 40.0 g', 'Nutritional yeast or rawmesan 40.0 g', 'Water (you may need a few more tablespoons for the dough) 50.0 ml', 'Ground turmeric optional 5.0 g']\n",
      "['Green or wild asparagus, fine 400.0 g', 'Extra virgin olive oil 45.0 ml', 'White wine 15.0 ml', 'Dijon mustard 5.0 ml', 'Sherry Vinegar 2.5 ml', 'Lemon 1.0', 'Sesame seeds 1.0 tablespoon', 'Poppy seeds 1.0 tablespoon', 'Sunflower seeds (pipes) tablespoon 1.0', 'Sliced \\u200b\\u200balmonds tablespoon 2.0']\n",
      "['Egg 8.0', 'Sugar 300.0 g', 'Orange juice 180.0 ml', 'Orange zest 2.0', 'Wheat flour 20.0 g', 'Butter 78.0 g']\n",
      "['Cod crumbs 200.0 g', 'Wheat flour 60.0 g', 'Chickpea flour 60.0 g', 'Egg 1.0', 'Finely chopped onion 0.25', 'Garlic clove 1.0', 'Cold water 125.0']\n",
      "['Red onion 1.0', 'Garlic clove 2.0', 'Seedless grapes 500.0 g', 'Fresh sausages or white sausages 500.0 g', 'Fresh rosemary (twigs) or dried to taste 3.0', 'Sherry or balsamic vinegar 15.0 ml']\n",
      "['Large Avocado 1.0', 'Goat cheese slices 6.0']\n",
      "['Pastry flour 210.0 g', 'Cornstarch 50.0 g', 'Baking powder 15.0 g', 'Salt 5.0 g', 'Liquid whipping cream 300.0 g', 'Eggs M 4.0', 'Sugar 225.0 g', 'Butter 20.0 g']\n",
      "['Oat flakes 80.0 g', 'Seed mix (flax, soy, chia, sunflower, etc.) 90.0 g', 'Pastry flour 125.0 g', 'Baking powder 8.0 g', 'Salt 2.0 g', 'Butter at room temperature 115.0 g', 'Sugar 130.0 g', 'Egg 1.0', 'Chocolate chips 150.0 g']\n",
      "['Cooked beetroot 2.0', 'Extra virgin olive oil 80.0 g', 'Sherry vinegar (to taste) 10.0 g', 'Water 200.0 ml', 'Garlic clove 1.0', 'Fresh ginger (to taste) 40.0 g']\n",
      "['Minced meat (150% beef and 30% pork) 180.0 g', 'Caramelized onion tablespoon 1.0', 'Natural pineapple slices 2.0', 'Finely chopped pickle 1.0', 'Bacon slices 2.0']\n",
      "['Banana 2.0', 'Manchego cheese 200.0 g', 'Egg 1.0', 'Cream cheese 200.0 g']\n",
      "['Water (for the dough) 200.0 g', 'Fresh bakery yeast (for the dough) 20.0 g', 'Extra virgin olive oil (for the dough) 30.0 g', 'Strong flour (for the dough) 400.0 g', 'Onion 300.0 g', 'Extra virgin olive oil 50.0 g', 'Canned cockles 200.0 g', 'Tomato sauce 60.0 g', 'Beaten egg 1.0']\n",
      "['Whole chicken breast 2.0', 'Mayonnaise 15.0 ml', 'Liquid cream for cooking or yogurt 15.0 ml', 'Mango chutney 10.0 ml', 'Dried peach or apricot 6.0', 'Sultana raisins 20.0 g', 'Ground curry 1 tablespoon 5.0 g', 'Honey 5.0 ml']\n",
      "['Peach 2.0', 'Clove 2.0', 'Cinnamon stick 1.0']\n",
      "['Mussels 1.0 kg', 'Tomato 1.0', 'Tomato sauce approximately 200.0 ml']\n",
      "['Wheat flour 500.0 g', 'Warm water 325.0 ml', 'Fresh bakery yeast 15.0 g', 'Salt 10.0 g', 'Sugar 10.0 g', 'Extra virgin olive oil 45.0 ml']\n",
      "['Mushrooms 100.0 g', 'Assorted mushrooms (shiitake, cardoon, oyster...) 300.0 g', 'Garlic clove, grated or finely chopped 1.0', 'Shallot 2 units 60.0 g', 'Whole milk 400.0 ml', 'Grated cheese to taste for gratin 100.0', 'Creme Fraiche or liquid cream 50.0 ml', 'Mineral water 120.0 ml', 'Butter 30.0 g', 'Wheat flour 30.0 g']\n",
      "['Oats 120.0 g', 'Milk or oat drink 200.0 ml', 'Ground turmeric 5.0 g', 'Ground cinnamon 5.0 g', 'Chia seeds 5.0 g']\n",
      "['Egg (for the filling) 250.0 g', 'Sugar (for filling) 200.0 g', 'Lemon zest (for the filling) 1.0', 'Lemon juice (for filling) 200.0 ml', 'Refined corn flour (for filling) 15.0 g', 'Butter (for filling) 50.0 g', 'Rice flour (for the base) 160.0 g', 'Corn flour (for the base) 80.0 g', 'Butter (for the base) 90.0 g', 'Sugar (for the base) 75.0 g', 'Egg (for the base) 50.0 g', 'Egg white (for meringue topping) 80.0 g', 'Icing sugar (for meringue topping) 150.0 g']\n",
      "['Chopped ray 1.0', 'Potato 6.0', 'Peeled garlic head 1.0', 'Peeled and grated tomato 1.0', 'Boiled egg yolk 1.0', 'Slice of toast 1.0']\n",
      "['Pork tenderloin 0.5', 'Greek yogurt 1.0', 'Garlic clove 1.0']\n",
      "['Dry short pasta 150.0 g', 'Onion 1.0', 'Garlic clove 3.0', 'Carrot 1.0', 'Vegetable broth 350.0 ml']\n",
      "['Cooked canned chickpeas 200.0 g', 'Garlic clove 1.0', 'Lemon juice 15.0 g', 'Olive oil 35.0 ml', 'Tahini 30.0 ml', 'Ground cumin 5.0 g', 'Maca powder 10.0 g']\n",
      "['Egg 3.0', 'Sugar 240.0 g', 'Sunflower oil 70.0 g', 'Wheat flour 180.0 g', 'Refined corn flour 80.0 g', 'Anise seeds 70.0 g', 'Baking powder 15.0 g']\n",
      "['Egg 1.0']\n",
      "['Wheat flour 75.0 g', 'Butter 75.0 g', 'Milk 750.0 ml', 'Roquefort cheese 50.0 g', 'Eggs 2.0', 'Breadcrumbs 50.0 g']\n",
      "['Strong flour 265.0 g', 'Boiled potato 125.0 g', 'Sugar 100.0 g', 'Lard 35.0 g', 'Sunflower oil 30.0 ml', 'Milk 20.0 ml', 'Medium eggs 2.0', 'Dry bakery yeast 5.0 g']\n",
      "['Round rice 450.0 g', 'Pork ribs, chopped 250.0 g', 'Lean pork or ham meat, fresh 200.0 g', 'Chicken pieces 250.0 g', 'Fresh white sausages 4.0', 'Fresh chorizo \\u200b\\u200bor red sausages 4.0', 'Garlic clove for the sofrito 1.0', 'Small white onion (can also be a piece of leek) for the sofrito 1.0', 'Italian green pepper for the sofrito 0.5']\n",
      "['Cereal and seed bread 2.0', 'Goat cheese in rolls (medallions) 2.0', 'Strawberry 5.0', 'Roasted or cooked chicken 80.0 g', 'Fresh Mozzarella 30.0 g']\n",
      "['Razors 24.0', 'Fish stock or fumet 200.0 ml', 'Garlic cloves 2.0', 'Breadcrumbs 100.0 g', 'Fresh parsley (branches) 3.0']\n",
      "['Egg 4.0', 'Milk 40.0 ml', 'Sugar 40.0 g', 'Kumquat 2.0']\n",
      "['Noodles 400.0 g', 'Red onion 1.0', 'Medium carrot 2.0', 'Medium zucchini 1.0', 'Medium eggplant 1.0', 'Minced garlic clove 1.0', 'Soy sauce 40.0 ml', 'Ground ginger 15.0 g', 'Rice vinegar 15.0 ml']\n",
      "['Chicken breast 500.0 g', 'Ground curry 5.0 g', 'Hot paprika 2.0 g', 'Sweet onion 1.0', 'Fresh ginger 5.0 g', 'Garlic cloves 3.0', 'Laurel leaves 3.0', 'Cinnamon sticks 1.0', 'Yellow or black mustard seeds 3.0 ml', 'Cumin seeds 3.0 g', 'Small ripe mango 1.0', 'Ground turmeric 3.0 g', 'Coconut milk or cooking cream 250.0 ml']\n",
      "['Artichoke 8.0']\n",
      "['Potato 4.0', 'Fresh chorizo \\u200b\\u200b1.0', 'Colored peppers 1.0', 'Chorizo \\u200b\\u200bpepper 1.0', 'Onion 1.0', 'Sweet paprika 10.0 g', 'Extra virgin olive oil 10.0 ml']\n",
      "['Pumpkin 600.0 g', 'Star Anise 4.0', 'Potato 3.0', 'Carrot 4.0', 'Vegetable broth 600.0 ml', 'Liquid cream for cooking 70.0 ml']\n",
      "['Onion 200.0 g', 'Extra virgin olive oil 30.0 g', 'Jalapeno pepper 1.0', 'Zucchini 300.0 g', 'Lettuce heart 1.0', 'Feta cheese 150.0 g', 'Liquid cream for cooking 200.0 ml', 'Fried corn nachos 200.0 g', 'Carrot 1.0']\n",
      "['Large and ripe bananas 2.0', 'Natural peanut butter without sugar and salt 20.0 ml']\n",
      "['Red wine 180.0 ml', 'Sugar 180.0 g', 'Butter and more for greasing 180.0 g', 'Pastry flour 120.0 g', 'Baking powder (teaspoons) 2.0', 'Egg L, at room temperature 4.0', 'Rum (liqueur) for soaking (optional) 50.0 ml', 'Water for soaking (optional) 50.0 ml', 'Sugar for soaking (optional) 100.0 g']\n",
      "['Bomba rice 240.0 g', 'Pork ribs 150.0 g', 'Beef 50.0 g', 'Chicken breast 50.0 g', 'Garlic cloves 2.0']\n",
      "['Flat green beans 20.0', 'Garlic clove 1.0']\n",
      "['Fish stock or fumet 1.5 l', 'Round rice 320.0 g', 'Ñora 4.0', 'Prawns 10.0', 'Cuttlefish 200.0 g', 'Garlic clove 3.0', 'Tomato concentrate teaspoon 1.0', 'Caramelized onion 60.0 g']\n",
      "['White beans 500.0 g', 'Pork ribs in tacos, from the meaty part 500.0 g', 'Asturian chorizo \\u200b\\u200b1.0', 'Bacon 150.0 g', 'Water 2.0']\n",
      "['Strong flour 270.0 g', 'Fresh bakery yeast 15.0 g', 'Milk 125.0 g', 'Sugar 30.0 g', 'Butter 40.0 g', 'Egg 20.0 g', 'Cream cheese (For the filling) 140.0 g', 'Blueberries (For the filling) 100.0 g']\n",
      "['Medium white turnip 3.0', 'Arugula (bag) 1.0', 'Small papaya 1.0', 'Nuts 6.0']\n",
      "['Butter 50.0 g', 'Capers 20.0']\n",
      "['Garlic clove 4.0', 'Onion 3.0', 'Red pepper 1.0', 'Ripe and grated tomatoes 2.0', 'Sweet paprika tablespoon 1.0', 'Clove 2.0', 'Laurel leaf 1.0', 'Fresh thyme bunch 1.0', 'Partridge 1.0', 'Quail 2.0', 'Wild rabbit 0.5', 'Hare 0.5', 'Chicken broth 1200.0 ml', 'Thin cakes 150.0 g']\n",
      "['Tomato 4.0 kg', 'Garlic cloves 8.0']\n",
      "['Very ripe and fleshy tomato 2.0', 'White or purple onion 1.0', 'Fresh jalapeno pepper 1.0']\n",
      "['Mexican flour tortillas 3.0', 'Sugar 50.0 g', 'Ground cinnamon 5.0 g', 'Butter 50.0 g']\n",
      "['Radishes 250.0 g', 'Water 150.0 ml', 'White wine vinegar 50.0 ml', 'Salt (one teaspoon) 6.0 g', 'Sugar (half teaspoon) 3.0 g', 'Black peppercorns 14.0', 'Garlic clove 1.0']\n",
      "['Clams 300.0 g', 'Wild asparagus 200.0 g', 'Chamomile wine (white) 100.0 ml', 'Serrano ham in cubes 100.0 g', 'Onion 75.0 g', 'Garlic clove 1.0']\n",
      "['Cauliflower 700.0 g', 'Extra virgin olive oil 30.0 ml', 'Lemon juice 15.0 ml', 'Salt 4.0 g', 'Ground black pepper 1.0 g']\n",
      "['Loaf of bread sliced \\u200b\\u200band toasted 2.0', 'Big red apple 2.0']\n",
      "['Canned cooked white beans 400.0 g', 'Cooked couscous 80.0 g', 'Sweet onion (half) 1.0', 'Garlic clove 1.0', 'Laurel 1.0', 'Natural chopped tomato 600.0 g', 'Dried oregano 2.0 g', 'Dried thyme 2.0 g', 'White or white wine or broth 80.0 ml', 'Feta cheese 100.0 g', 'Lemon 1.0']\n",
      "['Whole milk with or without lactose (or vegetable) 500.0 ml', 'Sugar (or to taste) 50.0 g', 'Rice flour 60.0 g', 'Orange blossom water, rose water or vanilla water 5.0 ml']\n",
      "['Chickpeas 100.0 g', 'Kombu seaweed 6.0', 'Tahini 30.0 ml', 'Lemon juice 30.0 ml', 'Olive oil 20.0 ml', 'Soy sauce 15.0 ml', 'Parsley 10.0 g', 'Apple cider vinegar 10.0 ml', 'Optional laurel 2.0', 'Garlic clove 1.0']\n",
      "['Roasted red pepper 60.0 g', 'Cheddar cheese 100.0 g', 'Butter 55.0 g', 'Wheat flour 55.0 g', 'Milk 300.0 ml', 'Egg 4.0']\n",
      "['Eggs \"M\" 1.0', 'Milk 15.0 g', 'Sliced \\u200b\\u200bbread 1.0', 'Garlic cloves 2.0', 'Minced meat (beef and pork mix) 500.0 g', 'Potatoes 170.0 g', 'Onion 100.0 g', 'Wheat flour 30.0 g', 'Beef broth 300.0 ml']\n",
      "['Wheat flour (for the dough) 200.0 g', 'Butter (for the dough) 100.0 g', 'Very cold water (for the dough) 70.0 ml', 'Egg (for the filling) 4.0', 'Spinach (for the filling) 500.0 g', 'Liquid cream for cooking (for the filling) 200.0 ml', 'Cream cheese (for filling) 50.0 g', 'Grated cheese such as Emmental, Gouda, etc. (for the filling) 150.0 g', 'Dijon mustard (for the filling) 5.0 ml']\n",
      "['Chicken breast 250.0 g', 'Natural yogurt 125.0 g', 'Dijon mustard 15.0 ml', 'Red chilli paste or concentrate 5.0 ml', 'Worcestershire sauce 2.5 ml', 'Extra virgin olive oil 30.0 ml', 'Salt 2.0 g', 'Onion 1.0', 'Garlic clove 1.0', 'White wine 50.0 ml']\n"
     ]
    }
   ],
   "source": [
    "recipes = pd.read_json(r'recetas_scrapper\\recetas_dap_no_delay.jsonl', lines=True)\n",
    "for i in range(len(recipes)):\n",
    "    ingredients = recipes[\"ingredientes\"].loc[i]\n",
    "    resultados = [\n",
    "        f\"{n} {c} {u}\".strip() if u else f\"{n} {c}\".strip()\n",
    "        for n, c, u in zip(ingredients['nombre'], ingredients['cantidad'], ingredients['unidad'])\n",
    "        if c is not None\n",
    "    ]\n",
    "    en_ingredients = [translate_es_en(e) for e in resultados]\n",
    "    print(en_ingredients)\n",
    "\n"
   ]
  },
  {
   "cell_type": "code",
   "execution_count": 42,
   "metadata": {},
   "outputs": [],
   "source": [
    "en_ingredients = [translate_es_en(e) for e in resultados]"
   ]
  },
  {
   "cell_type": "code",
   "execution_count": 45,
   "metadata": {},
   "outputs": [
    {
     "data": {
      "text/plain": [
       "['Frutos del bosque congelados 400.0 g',\n",
       " 'Nata líquida para cocinar 200.0 ml',\n",
       " 'Azúcar 100.0 g',\n",
       " 'Azúcar invertido 50.0 g',\n",
       " 'Azúcar glasé para montar la nata 100.0 g']"
      ]
     },
     "execution_count": 45,
     "metadata": {},
     "output_type": "execute_result"
    }
   ],
   "source": [
    "resultados"
   ]
  },
  {
   "cell_type": "code",
   "execution_count": 44,
   "metadata": {},
   "outputs": [
    {
     "data": {
      "text/plain": [
       "['Frozen forest fruits 400.0 g',\n",
       " 'Liquid cream for cooking 200.0 ml',\n",
       " 'Sugar 100.0 g',\n",
       " 'Inverted sugar 50.0 g',\n",
       " 'Icing sugar for whipping the cream 100.0 g']"
      ]
     },
     "execution_count": 44,
     "metadata": {},
     "output_type": "execute_result"
    }
   ],
   "source": [
    "en_ingredients"
   ]
  },
  {
   "cell_type": "code",
   "execution_count": 47,
   "metadata": {},
   "outputs": [],
   "source": [
    "df_final = get_nutrients(en_ingredients, 6)"
   ]
  },
  {
   "cell_type": "code",
   "execution_count": null,
   "metadata": {},
   "outputs": [],
   "source": [
    "df_final[\"title\"] = \"Receta1\""
   ]
  },
  {
   "cell_type": "code",
   "execution_count": 52,
   "metadata": {},
   "outputs": [],
   "source": [
    "df_recipes = df_final.groupby('title').agg({\n",
    "    'Calories (kcal)': 'sum',\n",
    "    'Protein (g)': 'sum',\n",
    "    'Fat (g)': 'sum',\n",
    "    'Carbohydrates (g)': 'sum',\n",
    "    'Sugar (g)': 'sum',\n",
    "    'Fiber (g)': 'sum',\n",
    "    'Serving weight (g)': 'first',  # Asumimos que el peso por porción es el mismo para toda la receta\n",
    "}).reset_index()"
   ]
  },
  {
   "cell_type": "code",
   "execution_count": 53,
   "metadata": {},
   "outputs": [
    {
     "data": {
      "text/html": [
       "<div>\n",
       "<style scoped>\n",
       "    .dataframe tbody tr th:only-of-type {\n",
       "        vertical-align: middle;\n",
       "    }\n",
       "\n",
       "    .dataframe tbody tr th {\n",
       "        vertical-align: top;\n",
       "    }\n",
       "\n",
       "    .dataframe thead th {\n",
       "        text-align: right;\n",
       "    }\n",
       "</style>\n",
       "<table border=\"1\" class=\"dataframe\">\n",
       "  <thead>\n",
       "    <tr style=\"text-align: right;\">\n",
       "      <th></th>\n",
       "      <th>title</th>\n",
       "      <th>Calories (kcal)</th>\n",
       "      <th>Protein (g)</th>\n",
       "      <th>Fat (g)</th>\n",
       "      <th>Carbohydrates (g)</th>\n",
       "      <th>Sugar (g)</th>\n",
       "      <th>Fiber (g)</th>\n",
       "      <th>Serving weight (g)</th>\n",
       "    </tr>\n",
       "  </thead>\n",
       "  <tbody>\n",
       "    <tr>\n",
       "      <th>0</th>\n",
       "      <td>Receta1</td>\n",
       "      <td>295.784559</td>\n",
       "      <td>1.187249</td>\n",
       "      <td>12.17215</td>\n",
       "      <td>47.833916</td>\n",
       "      <td>42.230787</td>\n",
       "      <td>0.666667</td>\n",
       "      <td>141.921929</td>\n",
       "    </tr>\n",
       "  </tbody>\n",
       "</table>\n",
       "</div>"
      ],
      "text/plain": [
       "     title  Calories (kcal)  Protein (g)   Fat (g)  Carbohydrates (g)  \\\n",
       "0  Receta1       295.784559     1.187249  12.17215          47.833916   \n",
       "\n",
       "   Sugar (g)  Fiber (g)  Serving weight (g)  \n",
       "0  42.230787   0.666667          141.921929  "
      ]
     },
     "execution_count": 53,
     "metadata": {},
     "output_type": "execute_result"
    }
   ],
   "source": [
    "df_recipes"
   ]
  }
 ],
 "metadata": {
  "kernelspec": {
   "display_name": "hotdog",
   "language": "python",
   "name": "python3"
  },
  "language_info": {
   "codemirror_mode": {
    "name": "ipython",
    "version": 3
   },
   "file_extension": ".py",
   "mimetype": "text/x-python",
   "name": "python",
   "nbconvert_exporter": "python",
   "pygments_lexer": "ipython3",
   "version": "3.11.9"
  }
 },
 "nbformat": 4,
 "nbformat_minor": 2
}
