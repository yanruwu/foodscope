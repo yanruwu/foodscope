{
 "cells": [
  {
   "cell_type": "code",
   "execution_count": 27,
   "metadata": {},
   "outputs": [
    {
     "name": "stderr",
     "output_type": "stream",
     "text": [
      "FutureWarning: Importing from timm.models.layers is deprecated, please import via timm.layers\n",
      "UserWarning: Failed to load custom C++ ops. Running on CPU mode Only!\n"
     ]
    }
   ],
   "source": [
    "from src.support_cv import *\n",
    "from src.support_recsys import *\n",
    "import dotenv\n",
    "dotenv.load_dotenv()\n",
    "\n",
    "url = \"https://zrhsejedrpoqcyfvfzsr.supabase.co\"\n",
    "key = os.getenv(\"db_API_pass\")"
   ]
  },
  {
   "cell_type": "code",
   "execution_count": 2,
   "metadata": {},
   "outputs": [],
   "source": [
    "recs = get_filtered_recommendations(ingredients=\"potato onion chicken\", url = url, key = key, health_labels = [], min_calories=0, max_calories=1000)"
   ]
  },
  {
   "cell_type": "code",
   "execution_count": 28,
   "metadata": {},
   "outputs": [
    {
     "ename": "NameError",
     "evalue": "name 'recs' is not defined",
     "output_type": "error",
     "traceback": [
      "\u001b[1;31m---------------------------------------------------------------------------\u001b[0m",
      "\u001b[1;31mNameError\u001b[0m                                 Traceback (most recent call last)",
      "Cell \u001b[1;32mIn[28], line 2\u001b[0m\n\u001b[0;32m      1\u001b[0m supabase \u001b[38;5;241m=\u001b[39m connect_supabase(url, key)\n\u001b[1;32m----> 2\u001b[0m \u001b[43mrecs\u001b[49m\u001b[38;5;241m.\u001b[39mhead()[\u001b[38;5;124m\"\u001b[39m\u001b[38;5;124mrecipe_id\u001b[39m\u001b[38;5;124m\"\u001b[39m]\u001b[38;5;241m.\u001b[39mvalues\n\u001b[0;32m      4\u001b[0m supabase\u001b[38;5;241m.\u001b[39mtable(\u001b[38;5;124m\"\u001b[39m\u001b[38;5;124mrecipes\u001b[39m\u001b[38;5;124m\"\u001b[39m)\u001b[38;5;241m.\u001b[39mselect(\u001b[38;5;124m\"\u001b[39m\u001b[38;5;124m*\u001b[39m\u001b[38;5;124m\"\u001b[39m)\u001b[38;5;241m.\u001b[39meq(\u001b[38;5;124m\"\u001b[39m\u001b[38;5;124mid\u001b[39m\u001b[38;5;124m\"\u001b[39m, recs\u001b[38;5;241m.\u001b[39mhead(\u001b[38;5;241m1\u001b[39m)[\u001b[38;5;124m\"\u001b[39m\u001b[38;5;124mrecipe_id\u001b[39m\u001b[38;5;124m\"\u001b[39m]\u001b[38;5;241m.\u001b[39mvalues[\u001b[38;5;241m0\u001b[39m])\u001b[38;5;241m.\u001b[39mexecute()\n",
      "\u001b[1;31mNameError\u001b[0m: name 'recs' is not defined"
     ]
    }
   ],
   "source": [
    "supabase = connect_supabase(url, key)\n",
    "recs.head()[\"recipe_id\"].values\n",
    "\n",
    "supabase.table(\"recipes\").select(\"*\").eq(\"id\", recs.head(1)[\"recipe_id\"].values[0]).execute()"
   ]
  },
  {
   "cell_type": "code",
   "execution_count": 41,
   "metadata": {},
   "outputs": [],
   "source": [
    "from flask import jsonify"
   ]
  },
  {
   "cell_type": "code",
   "execution_count": 43,
   "metadata": {},
   "outputs": [
    {
     "data": {
      "text/plain": [
       "{0: 481,\n",
       " 1: 89,\n",
       " 2: 67,\n",
       " 3: 155,\n",
       " 4: 33,\n",
       " 5: 114,\n",
       " 6: 102,\n",
       " 7: 436,\n",
       " 8: 144,\n",
       " 9: 153,\n",
       " 10: 491,\n",
       " 11: 530,\n",
       " 12: 523,\n",
       " 13: 438,\n",
       " 14: 464,\n",
       " 15: 161,\n",
       " 16: 199,\n",
       " 17: 30,\n",
       " 18: 64,\n",
       " 19: 124,\n",
       " 20: 200,\n",
       " 21: 22,\n",
       " 22: 71,\n",
       " 23: 413,\n",
       " 24: 404,\n",
       " 25: 462,\n",
       " 26: 85,\n",
       " 27: 428,\n",
       " 28: 534,\n",
       " 29: 486,\n",
       " 30: 131,\n",
       " 31: 61,\n",
       " 32: 189,\n",
       " 33: 49,\n",
       " 34: 488,\n",
       " 35: 511,\n",
       " 36: 546,\n",
       " 37: 44}"
      ]
     },
     "execution_count": 43,
     "metadata": {},
     "output_type": "execute_result"
    }
   ],
   "source": [
    "get_filtered_recommendations(ingredients=\"potato celery\", url = url, key = key, health_labels = [], min_calories=0, max_calories=1000)[\"recipe_id\"].reset_index(drop = True).to_dict()"
   ]
  },
  {
   "cell_type": "code",
   "execution_count": 46,
   "metadata": {},
   "outputs": [
    {
     "data": {
      "text/plain": [
       "{'0': 481,\n",
       " '1': 89,\n",
       " '2': 67,\n",
       " '3': 155,\n",
       " '4': 33,\n",
       " '5': 114,\n",
       " '6': 102,\n",
       " '7': 472,\n",
       " '8': 436,\n",
       " '9': 485,\n",
       " '10': 144,\n",
       " '11': 153,\n",
       " '12': 491,\n",
       " '13': 530,\n",
       " '14': 523,\n",
       " '15': 438,\n",
       " '16': 464,\n",
       " '17': 161,\n",
       " '18': 199,\n",
       " '19': 30,\n",
       " '20': 64,\n",
       " '21': 124,\n",
       " '22': 200,\n",
       " '23': 22,\n",
       " '24': 71,\n",
       " '25': 20,\n",
       " '26': 413,\n",
       " '27': 404,\n",
       " '28': 462,\n",
       " '29': 85,\n",
       " '30': 428,\n",
       " '31': 534,\n",
       " '32': 486,\n",
       " '33': 131,\n",
       " '34': 61,\n",
       " '35': 189,\n",
       " '36': 49,\n",
       " '37': 488,\n",
       " '38': 511,\n",
       " '39': 546,\n",
       " '40': 44}"
      ]
     },
     "execution_count": 46,
     "metadata": {},
     "output_type": "execute_result"
    }
   ],
   "source": [
    "import requests\n",
    "\n",
    "requests.post(\"http://127.0.0.1:5000/recommend-recipes\", json = {\"ingredients\" : \"potato celery\", \"health_labels\" : []}).json()\n"
   ]
  }
 ],
 "metadata": {
  "kernelspec": {
   "display_name": "hotdog",
   "language": "python",
   "name": "python3"
  },
  "language_info": {
   "codemirror_mode": {
    "name": "ipython",
    "version": 3
   },
   "file_extension": ".py",
   "mimetype": "text/x-python",
   "name": "python",
   "nbconvert_exporter": "python",
   "pygments_lexer": "ipython3",
   "version": "3.11.9"
  }
 },
 "nbformat": 4,
 "nbformat_minor": 2
}
