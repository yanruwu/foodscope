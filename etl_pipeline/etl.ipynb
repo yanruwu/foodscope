{
 "cells": [
  {
   "cell_type": "code",
   "execution_count": 10,
   "metadata": {},
   "outputs": [
    {
     "name": "stdout",
     "output_type": "stream",
     "text": [
      "The autoreload extension is already loaded. To reload it, use:\n",
      "  %reload_ext autoreload\n"
     ]
    }
   ],
   "source": [
    "%load_ext autoreload\n",
    "%autoreload 2"
   ]
  },
  {
   "cell_type": "code",
   "execution_count": 7,
   "metadata": {},
   "outputs": [],
   "source": [
    "import sys\n",
    "import os\n",
    "import pandas as pd\n",
    "import time\n",
    "import json\n",
    "\n",
    "project_root = \"..\"\n",
    "sys.path.append(project_root)\n",
    "\n",
    "from src.support_etl import *"
   ]
  },
  {
   "cell_type": "code",
   "execution_count": null,
   "metadata": {},
   "outputs": [],
   "source": [
    "dap = pd.read_json(r'..\\recetas_scrapper\\dap.jsonl', lines=True)\n",
    "\n",
    "with open(\"dap_leftoff.json\", 'r', encoding='utf-8') as file:\n",
    "    dap_leftoff = json.load(file)\n",
    "\n",
    "print(\"Translating ingredients...\")\n",
    "for i in range(1+dap_leftoff[\"Position\"],len(dap)):\n",
    "    ingredients = dap[\"ingredientes\"].loc[i]\n",
    "    resultados = [\n",
    "        \" \".join(filter(None, [str(c) if c is not None else None, u, n]))\n",
    "        for n, c, u in zip(ingredients['nombre'], ingredients['cantidad'], ingredients['unidad'])\n",
    "    ]\n",
    "    en_ingredients = [translate_es_en(e) for e in resultados]\n",
    "    # print(en_ingredients)\n",
    "    \n",
    "    serving = dap[\"raciones\"].loc[i]\n",
    "\n",
    "    print(\"Getting nutrients...\")\n",
    "\n",
    "    nut_info, recipe_sum = get_nutrients(en_ingredients, int(serving))\n",
    "    # print(dap[\"url\"][i])\n",
    "    if isinstance(nut_info, int) and nut_info != 555:\n",
    "        print(\"Error:\", nut_info) \n",
    "        break # Detenemos el proceso si hay un error que no sea el de mal parseo de la receta\n",
    "    elif isinstance(nut_info, int) and nut_info == 555:\n",
    "        json.dump(dap_leftoff, open(\"dap_leftoff.json\", \"w\")) # Guardar la posición actual\n",
    "        continue # No guardamos la receta si no se pudo parsear\n",
    "    # display(nut_info)\n",
    "    # print(recipe_sum)\n",
    "    \n",
    "    dap_leftoff[\"Position\"] = i\n",
    "    \n",
    "\n",
    "    filtered_nut_info = nut_info[nut_info[\"Weight (g)\"] > 0].copy() # Filtrar ingredientes con peso > 0 para evitar subir ingredientes sin peso (macros nulos)\n",
    "    columns_to_normalize = filtered_nut_info.columns[2:]  # Macros\n",
    "\n",
    "    # Normalizar los registros para que sean cada 100 g\n",
    "    \n",
    "    filtered_nut_info[columns_to_normalize] = (\n",
    "        filtered_nut_info[columns_to_normalize]\n",
    "        .div(filtered_nut_info[\"Weight (g)\"], axis=0)\n",
    "        * 100\n",
    "    )\n",
    "\n",
    "    print(\"Connecting to database...\")\n",
    "    conn = connect_db()\n",
    "    recipe_id = insert_recipe(conn, dap[\"titulo\"].loc[i], translate_es_en(dap[\"titulo\"].loc[i]), dap[\"titulo\"].loc[i], dap[\"url\"].loc[i],recipe_sum.get(\"weight\"), recipe_sum, int(serving))\n",
    "    for j in filtered_nut_info.index:\n",
    "        ingredient_id = get_or_create_ingredient(conn, filtered_nut_info.loc[j].get(\"Ingredient\").lower(), filtered_nut_info.loc[j], filtered_nut_info.loc[j].get(\"Ingredient\").lower(), translate_en_es(filtered_nut_info.loc[j].get(\"Ingredient\")).lower())\n",
    "        insert_ingredient_recipe(conn, recipe_id, ingredient_id, float(filtered_nut_info.loc[j].get(\"Weight (g)\")))\n",
    "    json.dump(dap_leftoff, open(\"dap_leftoff.json\", \"w\")) # Guardar la posición actual\n",
    "    time.sleep(2)\n",
    "\n",
    "\n",
    "\n",
    "print(\"End\")"
   ]
  },
  {
   "cell_type": "code",
   "execution_count": 3,
   "metadata": {},
   "outputs": [],
   "source": [
    "def get_or_create_tag(conn, tagname):\n",
    "    with conn.cursor() as cur:\n",
    "    # Buscar el tag\n",
    "        cur.execute(\"SELECT id FROM ingredients WHERE name = %s;\", (tagname,))\n",
    "        result = cur.fetchone()\n",
    "    if result:\n",
    "        # Si existe, devolver el tag\n",
    "        return result[0]"
   ]
  },
  {
   "cell_type": "code",
   "execution_count": 32,
   "metadata": {},
   "outputs": [
    {
     "name": "stderr",
     "output_type": "stream",
     "text": [
      "[nltk_data] Downloading package punkt_tab to\n",
      "[nltk_data]     C:\\Users\\yanru\\AppData\\Roaming\\nltk_data...\n",
      "[nltk_data]   Package punkt_tab is already up-to-date!\n"
     ]
    }
   ],
   "source": [
    "\n",
    "import nltk\n",
    "\n",
    "# nltk.download('punkt')\n",
    "nltk.download('punkt_tab')\n",
    "from nltk.tokenize import sent_tokenize\n",
    "\n",
    "receta = \"Lo primero es preparar la masa quebrada, para ello ponemos en un recipiente la harina, una cucharada de azúcar glas y el agua y luego, agregamos la mantequilla cortada en cubitos. Mezclamos bien hasta conseguir una masa homogénea. Al principio cuesta un poco porque la mantequilla estará dura, ayúdate de las manos para ir deshaciendo los cubos de mantequilla. Con esa masa forramos un molde de 22 cm y horneamos a 180ºC durante 10 - 15 minutos, es importante que pongas algo que pese sobre la masa, yo utilizo garbanzos pero puedes usar judías o unas bolillas de cerámica que venden para esto precisamente. Para hacer el relleno, muy sencillo, montamos las claras con una batidora de varillas, no hace falta que quede un merengue muy firme. Y luego le agregamos la harina de almendra y el azúcar. Mezclamos bien y ponemos sobre la masa quebrada previamente horneada. Volvemos a hornear durante 20-25 minutos a 180ºC. Veréis que toma un ligero tono tostado, eso es que está lista.\"\n",
    "# receta = translate_es_en(receta)\n",
    "pasos = sent_tokenize(receta) "
   ]
  },
  {
   "cell_type": "code",
   "execution_count": 7,
   "metadata": {},
   "outputs": [
    {
     "data": {
      "text/plain": [
       "'Hola'"
      ]
     },
     "execution_count": 7,
     "metadata": {},
     "output_type": "execute_result"
    }
   ],
   "source": [
    "translate_en_es(\"hello\")"
   ]
  },
  {
   "cell_type": "code",
   "execution_count": 34,
   "metadata": {},
   "outputs": [
    {
     "name": "stdout",
     "output_type": "stream",
     "text": [
      "['Lo primero es preparar la masa quebrada, para ello ponemos en un recipiente la harina, una cucharada de azúcar glas y el agua y luego, agregamos la mantequilla cortada en cubitos.', 'Mezclamos bien hasta conseguir una masa homogénea.', 'Al principio cuesta un poco porque la mantequilla estará dura, ayúdate de las manos para ir deshaciendo los cubos de mantequilla.', 'Con esa masa forramos un molde de 22 cm y horneamos a 180ºC durante 10 - 15 minutos, es importante que pongas algo que pese sobre la masa, yo utilizo garbanzos pero puedes usar judías o unas bolillas de cerámica que venden para esto precisamente.', 'Para hacer el relleno, muy sencillo, montamos las claras con una batidora de varillas, no hace falta que quede un merengue muy firme.', 'Y luego le agregamos la harina de almendra y el azúcar.', 'Mezclamos bien y ponemos sobre la masa quebrada previamente horneada.', 'Volvemos a hornear durante 20-25 minutos a 180ºC.', 'Veréis que toma un ligero tono tostado, eso es que está lista.']\n"
     ]
    }
   ],
   "source": [
    "print(pasos)"
   ]
  },
  {
   "cell_type": "code",
   "execution_count": 7,
   "metadata": {},
   "outputs": [],
   "source": [
    "from psycopg2.errors import UniqueViolation\n",
    "\n",
    "def insert_steps_from_jsonl(conn, jsonl, index):\n",
    "    with conn.cursor() as cur:\n",
    "        cur.execute(\"SELECT id FROM recipes WHERE url = %s;\", (jsonl.loc[index, \"url\"],))\n",
    "        try:\n",
    "            recipe_id = cur.fetchone()[0]\n",
    "        except:\n",
    "            recipe_id = None\n",
    "        # print(recipe_id)\n",
    "        if recipe_id:\n",
    "            try:\n",
    "                steps_es = jsonl.loc[index, \"instrucciones\"]\n",
    "                steps_en = translate_es_en(steps_es)\n",
    "                # print(steps_en, \"\\n\", steps_es)\n",
    "                cur.execute(\"INSERT INTO steps (recipe_id, description, description_es, description_en) VALUES (%s, %s, %s, %s);\", (recipe_id, steps_es, steps_en, steps_es))\n",
    "                conn.commit()\n",
    "            except UniqueViolation:\n",
    "                print(\"Ya existe\")\n"
   ]
  },
  {
   "cell_type": "code",
   "execution_count": 13,
   "metadata": {},
   "outputs": [
    {
     "name": "stdout",
     "output_type": "stream",
     "text": [
      "203\n",
      "We go over the rabbit pieces, removing any skin or fat, season them and dredge them in flour. While we do this, we put five tablespoons of olive oil in a low saucepan and brown the five unpeeled garlic cloves in it. As we flour each slice, we add it to the saucepan. Don't worry if they don't all fit. As they brown, they will shrink a little and eventually they will all fit together. We fry the slices well until they have an appetizing color and are well done inside. It will take about twenty minutes to brown them all, turning them continuously until they are like the pictures. At that point, we cut a lemon in half and squeeze it with our hand, distributing the juices over each slice. We add the glass of wine and the glass of broth and turn up the heat so that the sauce begins to reduce. Holding the handles of the pan with both hands - being careful not to burn yourself - shake the pan and make circular movements. This way the sauce will thicken while the rest of the liquid evaporates. In two or three minutes, the sauce will have permeated the slices, leaving them juicy and full of flavour. Sprinkle with a little parsley and serve hot. \n",
      " Repasamos los trozos de conejo retirando algún resto de piel o grasa, los sazonamos y los pasamos por harina. Mientras hacemos esta operación, ponemos en una cazuela baja cinco cucharadas de aceite de oliva y doramos en ella los cinco dientes de ajo sin pelar. Conforme vamos enharinando cada tajada, la incorporamos a la cazuela. No os preocupéis si no caben todas. Según se vayan dorando, menguarán un poco y al final todas podrán acomodarse. Freímos bien las tajadas hasta que tengan un color apetecible y estén bien hechas por dentro. Tardaréis unos veinte minutos en dorar todas, dándoles la vuelta continuamente hasta que queden como en las imágenes. En ese momento, cortamos un limón por la mitad y lo exprimimos con la mano repartiendo los jugos por encima de cada tajada. Agregamos el vasito de vino y el de caldo y subimos el fuego para que comience a reducirse la salsa. Agarrando con las dos manos las asas de la cacerola, -con cuidado para no quemarnos- agitamos la cazuela y le damos movimientos circulares. Así la salsa se va ligando mientras se evapora el resto de líquido. En dos o tres minutos, esa salsa ha impregnado las tajadas que quedan jugosas y llenas de sabor. Espolvoreamos con un poco de perejil y a la mesa para comerlo bien caliente.\n"
     ]
    }
   ],
   "source": [
    "conn = connect_db()\n",
    "\n",
    "dap = pd.read_json(r'..\\recetas_scrapper\\dap.jsonl', lines=True)\n",
    "\n",
    "# url = dap[\"url\"].loc[0]\n",
    "for i in range(len(dap)):\n",
    "    insert_steps_from_jsonl(conn, dap, i)\n",
    "    break\n",
    "# insert_ingredient_recipe(conn, )"
   ]
  },
  {
   "cell_type": "code",
   "execution_count": 29,
   "metadata": {},
   "outputs": [],
   "source": [
    "def insert_steps_from_jsonl(conn, jsonl, index):\n",
    "    with conn.cursor() as cur:\n",
    "        cur.execute(\"SELECT id FROM recipes WHERE url = %s;\", (jsonl.loc[index, \"url\"],))\n",
    "        try:\n",
    "            recipe_id = cur.fetchone()[0]\n",
    "        except Exception as e1:\n",
    "            recipe_id = None\n",
    "        # print(recipe_id)\n",
    "        if recipe_id:\n",
    "            try:\n",
    "                steps_es = jsonl.loc[index, \"instrucciones\"]\n",
    "                steps_en = translate_es_en(steps_es)\n",
    "                print(index, steps_es)\n",
    "                cur.execute(\"INSERT INTO steps (recipe_id, description, description_es, description_en) VALUES (%s, %s, %s, %s);\", (recipe_id, steps_es, steps_en, steps_es))\n",
    "                conn.commit()\n",
    "            except UniqueViolation:\n",
    "                print(\"Ya existe\")\n",
    "            except Exception as e:\n",
    "                print(e)"
   ]
  },
  {
   "cell_type": "code",
   "execution_count": 31,
   "metadata": {},
   "outputs": [
    {
     "name": "stdout",
     "output_type": "stream",
     "text": [
      "https://www.directoalpaladar.com/recetario/17-recetas-espanolas-para-viajar-salir-casa-cuarentena\n"
     ]
    }
   ],
   "source": [
    "conn = connect_db()\n",
    "\n",
    "dap = pd.read_json(r'..\\recetas_scrapper\\dap.jsonl', lines=True)\n",
    "\n",
    "insert_steps_from_jsonl(conn, dap, 202)\n",
    "print(dap.loc[202, \"url\"])"
   ]
  },
  {
   "cell_type": "code",
   "execution_count": 32,
   "metadata": {},
   "outputs": [],
   "source": [
    "def build_ingredients_list(ingredients_data):\n",
    "    \"\"\"\n",
    "    Construye una lista de strings en inglés para pasárselas a EDAMAM.\n",
    "    Ej: \"200 gram tomatoes\", \"1 pinch salt\", etc.\n",
    "    \"\"\"\n",
    "    # Estructura: zip(nombre, cantidad, unidad)\n",
    "    resultados = [\n",
    "        \" \".join(filter(\n",
    "            None, \n",
    "            [str(c) if c is not None else None, u if c is not None else None, n] # La condición es para evitar un string de \"None\", cosa que no pasa con los que no es necesario convertir a string\n",
    "        ))\n",
    "        for n, c, u in zip(\n",
    "            ingredients_data['nombre'], \n",
    "            ingredients_data['cantidad'], \n",
    "            ingredients_data['unidad']\n",
    "        )\n",
    "    ]\n",
    "    en_ingredients = [translate_es_en(e) for e in resultados]\n",
    "    return en_ingredients\n",
    "\n",
    "def process_single_recipe_with_steps(df, index, db_connection_func, leftoff_path, leftoff_pos):\n",
    "    \"\"\"\n",
    "    Procesa la receta en la posición `index` del DataFrame `dap`, \n",
    "    insertando su info nutricional, ingredientes y pasos en la BD.\n",
    "    \"\"\"\n",
    "\n",
    "    # A) Obtener valores clave de la receta\n",
    "    recipe_title = df[\"titulo\"].loc[index]\n",
    "    recipe_url = df[\"url\"].loc[index]\n",
    "    serving = int(df[\"raciones\"].loc[index])\n",
    "    ingredients_data = df[\"ingredientes\"].loc[index]\n",
    "\n",
    "    print(f\"\\nProcesando receta #{index+1}: {recipe_title}\")\n",
    "\n",
    "    # B) Prepara lista de ingredientes en inglés (para EDAMAM)\n",
    "    en_ingredients = build_ingredients_list(ingredients_data)\n",
    "\n",
    "    # C) Consumir la API de EDAMAM y obtener info nutricional\n",
    "    nut_info, recipe_sum = get_nutrients_wrapper(en_ingredients, serving, leftoff_path, dap_leftoff, index)\n",
    "    if nut_info is None or isinstance(nut_info, int):\n",
    "        # Hubo error o la función devolvió un código. \n",
    "        # Salimos para avanzar a la siguiente receta.\n",
    "        return\n",
    "\n",
    "    # D) Filtrar y normalizar DataFrame de nutrientes\n",
    "    filtered_nut_info = normalize_nut_info(nut_info)\n",
    "\n",
    "    # E) Insertar en Base de Datos\n",
    "    conn = db_connection_func()\n",
    "    try:\n",
    "        # 1) Insertar la receta\n",
    "        recipe_id = insert_recipe(\n",
    "            conn, \n",
    "            recipe_title,\n",
    "            translate_es_en(recipe_title),\n",
    "            recipe_title,\n",
    "            recipe_url,\n",
    "            recipe_sum.get(\"weight\"),\n",
    "            recipe_sum,\n",
    "            serving\n",
    "        )\n",
    "\n",
    "        # 2) Insertar ingredientes\n",
    "        insert_ingredients(conn, filtered_nut_info, recipe_id)\n",
    "\n",
    "        # 3) Insertar pasos\n",
    "        insert_steps_from_jsonl(conn, dap, index)\n",
    "\n",
    "    finally:\n",
    "        conn.close()\n",
    "\n",
    "    # F) Actualizar `dap_leftoff` tras éxito de la inserción\n",
    "    save_leftoff_position(leftoff_path, dap_leftoff, index+1)\n",
    "    # Por si deseas un 'sleep' aquí\n",
    "    time.sleep(1)\n"
   ]
  },
  {
   "cell_type": "code",
   "execution_count": 39,
   "metadata": {},
   "outputs": [],
   "source": [
    "ingredients_data = dap[\"ingredientes\"].loc[202]"
   ]
  },
  {
   "cell_type": "code",
   "execution_count": 40,
   "metadata": {},
   "outputs": [
    {
     "data": {
      "text/plain": [
       "['1500.0 Bomba rice',\n",
       " '1.0 Free range chicken',\n",
       " '0.5 Rabbit',\n",
       " '500.0 g Flat green beans',\n",
       " '500.0 g Garrofó',\n",
       " '6.0 Optional artichoke',\n",
       " '500.0 g Snails',\n",
       " 'Extra virgin olive oil',\n",
       " 'Sweet paprika',\n",
       " 'Crushed tomato',\n",
       " 'Saffron',\n",
       " 'Fresh rosemary',\n",
       " 'Salt']"
      ]
     },
     "execution_count": 40,
     "metadata": {},
     "output_type": "execute_result"
    }
   ],
   "source": [
    "build_ingredients_list(ingredients_data)"
   ]
  },
  {
   "cell_type": "code",
   "execution_count": 47,
   "metadata": {},
   "outputs": [
    {
     "name": "stdout",
     "output_type": "stream",
     "text": [
      "{'nombre': ['Morcilla de arroz', 'Aceite de oliva virgen extra en spray, uno o dos toques'], 'cantidad': [1.0, None], 'unidad': [None, None]}\n"
     ]
    },
    {
     "data": {
      "text/plain": [
       "['1.0 Morcilla de arroz',\n",
       " 'Aceite de oliva virgen extra en spray, uno o dos toques']"
      ]
     },
     "execution_count": 47,
     "metadata": {},
     "output_type": "execute_result"
    }
   ],
   "source": [
    "ingredients_data = dap[\"ingredientes\"].loc[1]\n",
    "ingredients = ingredients_data\n",
    "print(ingredients)\n",
    "[\" \".join(filter(None, [str(c) if c is not None else None, u, n]))\n",
    "            for n, c, u in zip(ingredients['nombre'], ingredients['cantidad'], ingredients['unidad'])]"
   ]
  }
 ],
 "metadata": {
  "kernelspec": {
   "display_name": "hotdog",
   "language": "python",
   "name": "python3"
  },
  "language_info": {
   "codemirror_mode": {
    "name": "ipython",
    "version": 3
   },
   "file_extension": ".py",
   "mimetype": "text/x-python",
   "name": "python",
   "nbconvert_exporter": "python",
   "pygments_lexer": "ipython3",
   "version": "3.11.9"
  }
 },
 "nbformat": 4,
 "nbformat_minor": 2
}
