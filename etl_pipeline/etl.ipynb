{
 "cells": [
  {
   "cell_type": "code",
   "execution_count": 3,
   "metadata": {},
   "outputs": [
    {
     "name": "stdout",
     "output_type": "stream",
     "text": [
      "The autoreload extension is already loaded. To reload it, use:\n",
      "  %reload_ext autoreload\n"
     ]
    }
   ],
   "source": [
    "%load_ext autoreload\n",
    "%autoreload 2"
   ]
  },
  {
   "cell_type": "code",
   "execution_count": null,
   "metadata": {},
   "outputs": [],
   "source": [
    "import sys\n",
    "import os\n",
    "import pandas as pd\n",
    "import time\n",
    "import json\n",
    "\n",
    "project_root = \"..\"\n",
    "sys.path.append(project_root)\n",
    "\n",
    "from src.support_etl import *\n",
    "\n",
    "\n",
    "dap = pd.read_json(r'..\\recetas_scrapper\\dap.jsonl', lines=True)\n",
    "\n",
    "with open(\"dap_leftoff.json\", 'r', encoding='utf-8') as file:\n",
    "    dap_leftoff = json.load(file)\n",
    "\n",
    "print(\"Translating ingredients...\")\n",
    "for i in range(1+dap_leftoff[\"Position\"],len(dap)):\n",
    "    ingredients = dap[\"ingredientes\"].loc[i]\n",
    "    resultados = [\n",
    "        \" \".join(filter(None, [str(c) if c is not None else None, u, n]))\n",
    "        for n, c, u in zip(ingredients['nombre'], ingredients['cantidad'], ingredients['unidad'])\n",
    "    ]\n",
    "    en_ingredients = [translate_es_en(e) for e in resultados]\n",
    "    # print(en_ingredients)\n",
    "    \n",
    "    serving = dap[\"raciones\"].loc[i]\n",
    "\n",
    "    print(\"Getting nutrients...\")\n",
    "\n",
    "    nut_info, recipe_sum = get_nutrients(en_ingredients, int(serving))\n",
    "    print(dap[\"url\"][i])\n",
    "    if isinstance(nut_info, int) and nut_info != 555:\n",
    "        print(\"Error:\", nut_info) \n",
    "        break # Detenemos el proceso si hay un error que no sea el de mal parseo de la receta\n",
    "    elif isinstance(nut_info, int) and nut_info == 555:\n",
    "        json.dump(dap_leftoff, open(\"dap_leftoff.json\", \"w\")) # Guardar la posición actual\n",
    "        continue # No guardamos la receta si no se pudo parsear\n",
    "    # display(nut_info)\n",
    "    # print(recipe_sum)\n",
    "    \n",
    "    dap_leftoff[\"Position\"] = i\n",
    "    \n",
    "\n",
    "    filtered_nut_info = nut_info[nut_info[\"Weight (g)\"] > 0].copy() # Filtrar ingredientes con peso > 0 para evitar subir ingredientes sin peso (macros nulos)\n",
    "    columns_to_normalize = filtered_nut_info.columns[2:]  # Macros\n",
    "\n",
    "    # Normalizar los registros para que sean cada 100 g\n",
    "    \n",
    "    filtered_nut_info[columns_to_normalize] = (\n",
    "        filtered_nut_info[columns_to_normalize]\n",
    "        .div(filtered_nut_info[\"Weight (g)\"], axis=0)\n",
    "        * 100\n",
    "    )\n",
    "\n",
    "    print(\"Connecting to database...\")\n",
    "    conn = connect_db()\n",
    "    recipe_id = insert_recipe(conn, dap[\"titulo\"].loc[i], translate_es_en(dap[\"titulo\"].loc[i]), dap[\"titulo\"].loc[i], dap[\"url\"].loc[i],recipe_sum.get(\"weight\"), recipe_sum, int(serving))\n",
    "    for j in filtered_nut_info.index:\n",
    "        ingredient_id = get_or_create_ingredient(conn, filtered_nut_info.loc[j].get(\"Ingredient\").lower(), filtered_nut_info.loc[j], filtered_nut_info.loc[j].get(\"Ingredient\").lower(), translate_en_es(filtered_nut_info.loc[j].get(\"Ingredient\")).lower())\n",
    "        insert_ingredient_recipe(conn, recipe_id, ingredient_id, float(filtered_nut_info.loc[j].get(\"Weight (g)\")))\n",
    "    json.dump(dap_leftoff, open(\"dap_leftoff.json\", \"w\")) # Guardar la posición actual\n",
    "    time.sleep(2)\n",
    "\n",
    "\n",
    "\n",
    "print(\"End\")"
   ]
  },
  {
   "cell_type": "code",
   "execution_count": null,
   "metadata": {},
   "outputs": [],
   "source": [
    "def get_or_create_tag(conn, tagname):\n",
    "    with conn.cursor() as cur:\n",
    "    # Buscar el tag\n",
    "        cur.execute(\"SELECT id FROM ingredients WHERE name = %s;\", (tagname,))\n",
    "        result = cur.fetchone()\n",
    "    if result:\n",
    "        # Si existe, devolver el tag\n",
    "        return result[0]\n",
    "    else:"
   ]
  },
  {
   "cell_type": "code",
   "execution_count": 32,
   "metadata": {},
   "outputs": [
    {
     "name": "stderr",
     "output_type": "stream",
     "text": [
      "[nltk_data] Downloading package punkt_tab to\n",
      "[nltk_data]     C:\\Users\\yanru\\AppData\\Roaming\\nltk_data...\n",
      "[nltk_data]   Package punkt_tab is already up-to-date!\n"
     ]
    }
   ],
   "source": [
    "\n",
    "import nltk\n",
    "\n",
    "# nltk.download('punkt')\n",
    "nltk.download('punkt_tab')\n",
    "from nltk.tokenize import sent_tokenize\n",
    "\n",
    "receta = \"Lo primero es preparar la masa quebrada, para ello ponemos en un recipiente la harina, una cucharada de azúcar glas y el agua y luego, agregamos la mantequilla cortada en cubitos. Mezclamos bien hasta conseguir una masa homogénea. Al principio cuesta un poco porque la mantequilla estará dura, ayúdate de las manos para ir deshaciendo los cubos de mantequilla. Con esa masa forramos un molde de 22 cm y horneamos a 180ºC durante 10 - 15 minutos, es importante que pongas algo que pese sobre la masa, yo utilizo garbanzos pero puedes usar judías o unas bolillas de cerámica que venden para esto precisamente. Para hacer el relleno, muy sencillo, montamos las claras con una batidora de varillas, no hace falta que quede un merengue muy firme. Y luego le agregamos la harina de almendra y el azúcar. Mezclamos bien y ponemos sobre la masa quebrada previamente horneada. Volvemos a hornear durante 20-25 minutos a 180ºC. Veréis que toma un ligero tono tostado, eso es que está lista.\"\n",
    "# receta = translate_es_en(receta)\n",
    "pasos = sent_tokenize(receta) "
   ]
  },
  {
   "cell_type": "code",
   "execution_count": 33,
   "metadata": {},
   "outputs": [
    {
     "name": "stdout",
     "output_type": "stream",
     "text": [
      "Lo primero es preparar la masa quebrada, para ello ponemos en un recipiente la harina, una cucharada de azúcar glas y el agua y luego, agregamos la mantequilla cortada en cubitos.\n",
      "Mezclamos bien hasta conseguir una masa homogénea.\n",
      "Al principio cuesta un poco porque la mantequilla estará dura, ayúdate de las manos para ir deshaciendo los cubos de mantequilla.\n",
      "Con esa masa forramos un molde de 22 cm y horneamos a 180ºC durante 10 - 15 minutos, es importante que pongas algo que pese sobre la masa, yo utilizo garbanzos pero puedes usar judías o unas bolillas de cerámica que venden para esto precisamente.\n",
      "Para hacer el relleno, muy sencillo, montamos las claras con una batidora de varillas, no hace falta que quede un merengue muy firme.\n",
      "Y luego le agregamos la harina de almendra y el azúcar.\n",
      "Mezclamos bien y ponemos sobre la masa quebrada previamente horneada.\n",
      "Volvemos a hornear durante 20-25 minutos a 180ºC.\n",
      "Veréis que toma un ligero tono tostado, eso es que está lista.\n"
     ]
    }
   ],
   "source": [
    "for paso in pasos:\n",
    "    print(paso)"
   ]
  },
  {
   "cell_type": "code",
   "execution_count": 34,
   "metadata": {},
   "outputs": [
    {
     "name": "stdout",
     "output_type": "stream",
     "text": [
      "['Lo primero es preparar la masa quebrada, para ello ponemos en un recipiente la harina, una cucharada de azúcar glas y el agua y luego, agregamos la mantequilla cortada en cubitos.', 'Mezclamos bien hasta conseguir una masa homogénea.', 'Al principio cuesta un poco porque la mantequilla estará dura, ayúdate de las manos para ir deshaciendo los cubos de mantequilla.', 'Con esa masa forramos un molde de 22 cm y horneamos a 180ºC durante 10 - 15 minutos, es importante que pongas algo que pese sobre la masa, yo utilizo garbanzos pero puedes usar judías o unas bolillas de cerámica que venden para esto precisamente.', 'Para hacer el relleno, muy sencillo, montamos las claras con una batidora de varillas, no hace falta que quede un merengue muy firme.', 'Y luego le agregamos la harina de almendra y el azúcar.', 'Mezclamos bien y ponemos sobre la masa quebrada previamente horneada.', 'Volvemos a hornear durante 20-25 minutos a 180ºC.', 'Veréis que toma un ligero tono tostado, eso es que está lista.']\n"
     ]
    }
   ],
   "source": [
    "print(pasos)"
   ]
  }
 ],
 "metadata": {
  "kernelspec": {
   "display_name": "hotdog",
   "language": "python",
   "name": "python3"
  },
  "language_info": {
   "codemirror_mode": {
    "name": "ipython",
    "version": 3
   },
   "file_extension": ".py",
   "mimetype": "text/x-python",
   "name": "python",
   "nbconvert_exporter": "python",
   "pygments_lexer": "ipython3",
   "version": "3.11.9"
  }
 },
 "nbformat": 4,
 "nbformat_minor": 2
}
