{
 "cells": [
  {
   "cell_type": "code",
   "execution_count": 10,
   "metadata": {},
   "outputs": [
    {
     "name": "stdout",
     "output_type": "stream",
     "text": [
      "The autoreload extension is already loaded. To reload it, use:\n",
      "  %reload_ext autoreload\n"
     ]
    }
   ],
   "source": [
    "%load_ext autoreload\n",
    "%autoreload 2"
   ]
  },
  {
   "cell_type": "code",
   "execution_count": 1,
   "metadata": {},
   "outputs": [],
   "source": [
    "import sys\n",
    "import os\n",
    "import pandas as pd\n",
    "import time\n",
    "import json\n",
    "\n",
    "project_root = \"..\"\n",
    "sys.path.append(project_root)\n",
    "\n",
    "from src.support_etl import *"
   ]
  },
  {
   "cell_type": "code",
   "execution_count": null,
   "metadata": {},
   "outputs": [],
   "source": [
    "dap = pd.read_json(r'..\\recetas_scrapper\\dap.jsonl', lines=True)\n",
    "\n",
    "with open(\"dap_leftoff.json\", 'r', encoding='utf-8') as file:\n",
    "    dap_leftoff = json.load(file)\n",
    "\n",
    "print(\"Translating ingredients...\")\n",
    "for i in range(1+dap_leftoff[\"Position\"],len(dap)):\n",
    "    ingredients = dap[\"ingredientes\"].loc[i]\n",
    "    resultados = [\n",
    "        \" \".join(filter(None, [str(c) if c is not None else None, u, n]))\n",
    "        for n, c, u in zip(ingredients['nombre'], ingredients['cantidad'], ingredients['unidad'])\n",
    "    ]\n",
    "    en_ingredients = [translate_es_en(e) for e in resultados]\n",
    "    # print(en_ingredients)\n",
    "    \n",
    "    serving = dap[\"raciones\"].loc[i]\n",
    "\n",
    "    print(\"Getting nutrients...\")\n",
    "\n",
    "    nut_info, recipe_sum = get_nutrients(en_ingredients, int(serving))\n",
    "    # print(dap[\"url\"][i])\n",
    "    if isinstance(nut_info, int) and nut_info != 555:\n",
    "        print(\"Error:\", nut_info) \n",
    "        break # Detenemos el proceso si hay un error que no sea el de mal parseo de la receta\n",
    "    elif isinstance(nut_info, int) and nut_info == 555:\n",
    "        json.dump(dap_leftoff, open(\"dap_leftoff.json\", \"w\")) # Guardar la posición actual\n",
    "        continue # No guardamos la receta si no se pudo parsear\n",
    "    # display(nut_info)\n",
    "    # print(recipe_sum)\n",
    "    \n",
    "    dap_leftoff[\"Position\"] = i\n",
    "    \n",
    "\n",
    "    filtered_nut_info = nut_info[nut_info[\"Weight (g)\"] > 0].copy() # Filtrar ingredientes con peso > 0 para evitar subir ingredientes sin peso (macros nulos)\n",
    "    columns_to_normalize = filtered_nut_info.columns[2:]  # Macros\n",
    "\n",
    "    # Normalizar los registros para que sean cada 100 g\n",
    "    \n",
    "    filtered_nut_info[columns_to_normalize] = (\n",
    "        filtered_nut_info[columns_to_normalize]\n",
    "        .div(filtered_nut_info[\"Weight (g)\"], axis=0)\n",
    "        * 100\n",
    "    )\n",
    "\n",
    "    print(\"Connecting to database...\")\n",
    "    conn = connect_db()\n",
    "    recipe_id = insert_recipe(conn, dap[\"titulo\"].loc[i], translate_es_en(dap[\"titulo\"].loc[i]), dap[\"titulo\"].loc[i], dap[\"url\"].loc[i],recipe_sum.get(\"weight\"), recipe_sum, int(serving))\n",
    "    for j in filtered_nut_info.index:\n",
    "        ingredient_id = get_or_create_ingredient(conn, filtered_nut_info.loc[j].get(\"Ingredient\").lower(), filtered_nut_info.loc[j], filtered_nut_info.loc[j].get(\"Ingredient\").lower(), translate_en_es(filtered_nut_info.loc[j].get(\"Ingredient\")).lower())\n",
    "        insert_ingredient_recipe(conn, recipe_id, ingredient_id, float(filtered_nut_info.loc[j].get(\"Weight (g)\")))\n",
    "    json.dump(dap_leftoff, open(\"dap_leftoff.json\", \"w\")) # Guardar la posición actual\n",
    "    time.sleep(2)\n",
    "\n",
    "\n",
    "\n",
    "print(\"End\")"
   ]
  },
  {
   "cell_type": "code",
   "execution_count": 3,
   "metadata": {},
   "outputs": [],
   "source": [
    "def get_or_create_tag(conn, tagname):\n",
    "    with conn.cursor() as cur:\n",
    "    # Buscar el tag\n",
    "        cur.execute(\"SELECT id FROM ingredients WHERE name = %s;\", (tagname,))\n",
    "        result = cur.fetchone()\n",
    "    if result:\n",
    "        # Si existe, devolver el tag\n",
    "        return result[0]"
   ]
  },
  {
   "cell_type": "code",
   "execution_count": 32,
   "metadata": {},
   "outputs": [
    {
     "name": "stderr",
     "output_type": "stream",
     "text": [
      "[nltk_data] Downloading package punkt_tab to\n",
      "[nltk_data]     C:\\Users\\yanru\\AppData\\Roaming\\nltk_data...\n",
      "[nltk_data]   Package punkt_tab is already up-to-date!\n"
     ]
    }
   ],
   "source": [
    "\n",
    "import nltk\n",
    "\n",
    "# nltk.download('punkt')\n",
    "nltk.download('punkt_tab')\n",
    "from nltk.tokenize import sent_tokenize\n",
    "\n",
    "receta = \"Lo primero es preparar la masa quebrada, para ello ponemos en un recipiente la harina, una cucharada de azúcar glas y el agua y luego, agregamos la mantequilla cortada en cubitos. Mezclamos bien hasta conseguir una masa homogénea. Al principio cuesta un poco porque la mantequilla estará dura, ayúdate de las manos para ir deshaciendo los cubos de mantequilla. Con esa masa forramos un molde de 22 cm y horneamos a 180ºC durante 10 - 15 minutos, es importante que pongas algo que pese sobre la masa, yo utilizo garbanzos pero puedes usar judías o unas bolillas de cerámica que venden para esto precisamente. Para hacer el relleno, muy sencillo, montamos las claras con una batidora de varillas, no hace falta que quede un merengue muy firme. Y luego le agregamos la harina de almendra y el azúcar. Mezclamos bien y ponemos sobre la masa quebrada previamente horneada. Volvemos a hornear durante 20-25 minutos a 180ºC. Veréis que toma un ligero tono tostado, eso es que está lista.\"\n",
    "# receta = translate_es_en(receta)\n",
    "pasos = sent_tokenize(receta) "
   ]
  },
  {
   "cell_type": "code",
   "execution_count": 7,
   "metadata": {},
   "outputs": [
    {
     "data": {
      "text/plain": [
       "'Hola'"
      ]
     },
     "execution_count": 7,
     "metadata": {},
     "output_type": "execute_result"
    }
   ],
   "source": [
    "translate_en_es(\"hello\")"
   ]
  },
  {
   "cell_type": "code",
   "execution_count": 34,
   "metadata": {},
   "outputs": [
    {
     "name": "stdout",
     "output_type": "stream",
     "text": [
      "['Lo primero es preparar la masa quebrada, para ello ponemos en un recipiente la harina, una cucharada de azúcar glas y el agua y luego, agregamos la mantequilla cortada en cubitos.', 'Mezclamos bien hasta conseguir una masa homogénea.', 'Al principio cuesta un poco porque la mantequilla estará dura, ayúdate de las manos para ir deshaciendo los cubos de mantequilla.', 'Con esa masa forramos un molde de 22 cm y horneamos a 180ºC durante 10 - 15 minutos, es importante que pongas algo que pese sobre la masa, yo utilizo garbanzos pero puedes usar judías o unas bolillas de cerámica que venden para esto precisamente.', 'Para hacer el relleno, muy sencillo, montamos las claras con una batidora de varillas, no hace falta que quede un merengue muy firme.', 'Y luego le agregamos la harina de almendra y el azúcar.', 'Mezclamos bien y ponemos sobre la masa quebrada previamente horneada.', 'Volvemos a hornear durante 20-25 minutos a 180ºC.', 'Veréis que toma un ligero tono tostado, eso es que está lista.']\n"
     ]
    }
   ],
   "source": [
    "print(pasos)"
   ]
  },
  {
   "cell_type": "code",
   "execution_count": 7,
   "metadata": {},
   "outputs": [],
   "source": [
    "from psycopg2.errors import UniqueViolation\n",
    "\n",
    "def insert_steps_from_jsonl(conn, jsonl, index):\n",
    "    with conn.cursor() as cur:\n",
    "        cur.execute(\"SELECT id FROM recipes WHERE url = %s;\", (jsonl.loc[index, \"url\"],))\n",
    "        try:\n",
    "            recipe_id = cur.fetchone()[0]\n",
    "        except:\n",
    "            recipe_id = None\n",
    "        # print(recipe_id)\n",
    "        if recipe_id:\n",
    "            try:\n",
    "                steps_es = jsonl.loc[index, \"instrucciones\"]\n",
    "                steps_en = translate_es_en(steps_es)\n",
    "                # print(steps_en, \"\\n\", steps_es)\n",
    "                cur.execute(\"INSERT INTO steps (recipe_id, description, description_es, description_en) VALUES (%s, %s, %s, %s);\", (recipe_id, steps_es, steps_en, steps_es))\n",
    "                conn.commit()\n",
    "            except UniqueViolation:\n",
    "                print(\"Ya existe\")\n"
   ]
  },
  {
   "cell_type": "code",
   "execution_count": 13,
   "metadata": {},
   "outputs": [
    {
     "name": "stdout",
     "output_type": "stream",
     "text": [
      "203\n",
      "We go over the rabbit pieces, removing any skin or fat, season them and dredge them in flour. While we do this, we put five tablespoons of olive oil in a low saucepan and brown the five unpeeled garlic cloves in it. As we flour each slice, we add it to the saucepan. Don't worry if they don't all fit. As they brown, they will shrink a little and eventually they will all fit together. We fry the slices well until they have an appetizing color and are well done inside. It will take about twenty minutes to brown them all, turning them continuously until they are like the pictures. At that point, we cut a lemon in half and squeeze it with our hand, distributing the juices over each slice. We add the glass of wine and the glass of broth and turn up the heat so that the sauce begins to reduce. Holding the handles of the pan with both hands - being careful not to burn yourself - shake the pan and make circular movements. This way the sauce will thicken while the rest of the liquid evaporates. In two or three minutes, the sauce will have permeated the slices, leaving them juicy and full of flavour. Sprinkle with a little parsley and serve hot. \n",
      " Repasamos los trozos de conejo retirando algún resto de piel o grasa, los sazonamos y los pasamos por harina. Mientras hacemos esta operación, ponemos en una cazuela baja cinco cucharadas de aceite de oliva y doramos en ella los cinco dientes de ajo sin pelar. Conforme vamos enharinando cada tajada, la incorporamos a la cazuela. No os preocupéis si no caben todas. Según se vayan dorando, menguarán un poco y al final todas podrán acomodarse. Freímos bien las tajadas hasta que tengan un color apetecible y estén bien hechas por dentro. Tardaréis unos veinte minutos en dorar todas, dándoles la vuelta continuamente hasta que queden como en las imágenes. En ese momento, cortamos un limón por la mitad y lo exprimimos con la mano repartiendo los jugos por encima de cada tajada. Agregamos el vasito de vino y el de caldo y subimos el fuego para que comience a reducirse la salsa. Agarrando con las dos manos las asas de la cacerola, -con cuidado para no quemarnos- agitamos la cazuela y le damos movimientos circulares. Así la salsa se va ligando mientras se evapora el resto de líquido. En dos o tres minutos, esa salsa ha impregnado las tajadas que quedan jugosas y llenas de sabor. Espolvoreamos con un poco de perejil y a la mesa para comerlo bien caliente.\n"
     ]
    }
   ],
   "source": [
    "conn = connect_db()\n",
    "\n",
    "dap = pd.read_json(r'..\\recetas_scrapper\\dap.jsonl', lines=True)\n",
    "\n",
    "# url = dap[\"url\"].loc[0]\n",
    "for i in range(len(dap)):\n",
    "    insert_steps_from_jsonl(conn, dap, i)\n",
    "    break\n",
    "# insert_ingredient_recipe(conn, )"
   ]
  },
  {
   "cell_type": "code",
   "execution_count": 29,
   "metadata": {},
   "outputs": [],
   "source": [
    "def insert_steps_from_jsonl(conn, jsonl, index):\n",
    "    with conn.cursor() as cur:\n",
    "        cur.execute(\"SELECT id FROM recipes WHERE url = %s;\", (jsonl.loc[index, \"url\"],))\n",
    "        try:\n",
    "            recipe_id = cur.fetchone()[0]\n",
    "        except Exception as e1:\n",
    "            recipe_id = None\n",
    "        # print(recipe_id)\n",
    "        if recipe_id:\n",
    "            try:\n",
    "                steps_es = jsonl.loc[index, \"instrucciones\"]\n",
    "                steps_en = translate_es_en(steps_es)\n",
    "                print(index, steps_es)\n",
    "                cur.execute(\"INSERT INTO steps (recipe_id, description, description_es, description_en) VALUES (%s, %s, %s, %s);\", (recipe_id, steps_es, steps_en, steps_es))\n",
    "                conn.commit()\n",
    "            except UniqueViolation:\n",
    "                print(\"Ya existe\")\n",
    "            except Exception as e:\n",
    "                print(e)"
   ]
  },
  {
   "cell_type": "code",
   "execution_count": 31,
   "metadata": {},
   "outputs": [
    {
     "name": "stdout",
     "output_type": "stream",
     "text": [
      "https://www.directoalpaladar.com/recetario/17-recetas-espanolas-para-viajar-salir-casa-cuarentena\n"
     ]
    }
   ],
   "source": [
    "conn = connect_db()\n",
    "\n",
    "dap = pd.read_json(r'..\\recetas_scrapper\\dap.jsonl', lines=True)\n",
    "\n",
    "insert_steps_from_jsonl(conn, dap, 202)\n",
    "print(dap.loc[202, \"url\"])"
   ]
  },
  {
   "cell_type": "code",
   "execution_count": 32,
   "metadata": {},
   "outputs": [],
   "source": [
    "def build_ingredients_list(ingredients_data):\n",
    "    \"\"\"\n",
    "    Construye una lista de strings en inglés para pasárselas a EDAMAM.\n",
    "    Ej: \"200 gram tomatoes\", \"1 pinch salt\", etc.\n",
    "    \"\"\"\n",
    "    # Estructura: zip(nombre, cantidad, unidad)\n",
    "    resultados = [\n",
    "        \" \".join(filter(\n",
    "            None, \n",
    "            [str(c) if c is not None else None, u if c is not None else None, n] # La condición es para evitar un string de \"None\", cosa que no pasa con los que no es necesario convertir a string\n",
    "        ))\n",
    "        for n, c, u in zip(\n",
    "            ingredients_data['nombre'], \n",
    "            ingredients_data['cantidad'], \n",
    "            ingredients_data['unidad']\n",
    "        )\n",
    "    ]\n",
    "    en_ingredients = [translate_es_en(e) for e in resultados]\n",
    "    return en_ingredients\n",
    "\n",
    "def process_single_recipe_with_steps(df, index, db_connection_func, leftoff_path, leftoff_pos):\n",
    "    \"\"\"\n",
    "    Procesa la receta en la posición `index` del DataFrame `dap`, \n",
    "    insertando su info nutricional, ingredientes y pasos en la BD.\n",
    "    \"\"\"\n",
    "\n",
    "    # A) Obtener valores clave de la receta\n",
    "    recipe_title = df[\"titulo\"].loc[index]\n",
    "    recipe_url = df[\"url\"].loc[index]\n",
    "    serving = int(df[\"raciones\"].loc[index])\n",
    "    ingredients_data = df[\"ingredientes\"].loc[index]\n",
    "\n",
    "    print(f\"\\nProcesando receta #{index+1}: {recipe_title}\")\n",
    "\n",
    "    # B) Prepara lista de ingredientes en inglés (para EDAMAM)\n",
    "    en_ingredients = build_ingredients_list(ingredients_data)\n",
    "\n",
    "    # C) Consumir la API de EDAMAM y obtener info nutricional\n",
    "    nut_info, recipe_sum = get_nutrients_wrapper(en_ingredients, serving, leftoff_path, dap_leftoff, index)\n",
    "    if nut_info is None or isinstance(nut_info, int):\n",
    "        # Hubo error o la función devolvió un código. \n",
    "        # Salimos para avanzar a la siguiente receta.\n",
    "        return\n",
    "\n",
    "    # D) Filtrar y normalizar DataFrame de nutrientes\n",
    "    filtered_nut_info = normalize_nut_info(nut_info)\n",
    "\n",
    "    # E) Insertar en Base de Datos\n",
    "    conn = db_connection_func()\n",
    "    try:\n",
    "        # 1) Insertar la receta\n",
    "        recipe_id = insert_recipe(\n",
    "            conn, \n",
    "            recipe_title,\n",
    "            translate_es_en(recipe_title),\n",
    "            recipe_title,\n",
    "            recipe_url,\n",
    "            recipe_sum.get(\"weight\"),\n",
    "            recipe_sum,\n",
    "            serving\n",
    "        )\n",
    "\n",
    "        # 2) Insertar ingredientes\n",
    "        insert_ingredients(conn, filtered_nut_info, recipe_id)\n",
    "\n",
    "        # 3) Insertar pasos\n",
    "        insert_steps_from_jsonl(conn, dap, index)\n",
    "\n",
    "    finally:\n",
    "        conn.close()\n",
    "\n",
    "    # F) Actualizar `dap_leftoff` tras éxito de la inserción\n",
    "    save_leftoff_position(leftoff_path, dap_leftoff, index+1)\n",
    "    # Por si deseas un 'sleep' aquí\n",
    "    time.sleep(1)\n"
   ]
  },
  {
   "cell_type": "code",
   "execution_count": 39,
   "metadata": {},
   "outputs": [],
   "source": [
    "ingredients_data = dap[\"ingredientes\"].loc[202]"
   ]
  },
  {
   "cell_type": "code",
   "execution_count": 40,
   "metadata": {},
   "outputs": [
    {
     "data": {
      "text/plain": [
       "['1500.0 Bomba rice',\n",
       " '1.0 Free range chicken',\n",
       " '0.5 Rabbit',\n",
       " '500.0 g Flat green beans',\n",
       " '500.0 g Garrofó',\n",
       " '6.0 Optional artichoke',\n",
       " '500.0 g Snails',\n",
       " 'Extra virgin olive oil',\n",
       " 'Sweet paprika',\n",
       " 'Crushed tomato',\n",
       " 'Saffron',\n",
       " 'Fresh rosemary',\n",
       " 'Salt']"
      ]
     },
     "execution_count": 40,
     "metadata": {},
     "output_type": "execute_result"
    }
   ],
   "source": [
    "build_ingredients_list(ingredients_data)"
   ]
  },
  {
   "cell_type": "code",
   "execution_count": 47,
   "metadata": {},
   "outputs": [
    {
     "name": "stdout",
     "output_type": "stream",
     "text": [
      "{'nombre': ['Morcilla de arroz', 'Aceite de oliva virgen extra en spray, uno o dos toques'], 'cantidad': [1.0, None], 'unidad': [None, None]}\n"
     ]
    },
    {
     "data": {
      "text/plain": [
       "['1.0 Morcilla de arroz',\n",
       " 'Aceite de oliva virgen extra en spray, uno o dos toques']"
      ]
     },
     "execution_count": 47,
     "metadata": {},
     "output_type": "execute_result"
    }
   ],
   "source": [
    "ingredients_data = dap[\"ingredientes\"].loc[1]\n",
    "ingredients = ingredients_data\n",
    "print(ingredients)\n",
    "[\" \".join(filter(None, [str(c) if c is not None else None, u, n]))\n",
    "            for n, c, u in zip(ingredients['nombre'], ingredients['cantidad'], ingredients['unidad'])]"
   ]
  },
  {
   "cell_type": "code",
   "execution_count": 3,
   "metadata": {},
   "outputs": [],
   "source": [
    "import os\n",
    "import pandas as pd\n",
    "import json\n",
    "import time\n",
    "from supabase import create_client, Client\n",
    "\n",
    "\n",
    "# -----------------------------------------------------------------\n",
    "# Importa o define aquí las funciones que ya tenías: \n",
    "#   get_nutrients, translate_es_en, insert_tags, etc.\n",
    "# Asumiendo que están en tu mismo archivo o en un módulo importado.\n",
    "# -----------------------------------------------------------------\n",
    "\n",
    "def get_supabase_client() -> Client:\n",
    "    \"\"\"\n",
    "    Retorna la instancia de Supabase con las credenciales de entorno.\n",
    "    \"\"\"\n",
    "    url = \"https://zrhsejedrpoqcyfvfzsr.supabase.co\"\n",
    "    key = os.getenv(\"db_API_pass\")\n",
    "    return create_client(url, key)\n",
    "\n",
    "def fill_tags_for_recipes(jsonl_path: str):\n",
    "    \"\"\"\n",
    "    Lee un archivo .jsonl con recetas y rellena sus tags (healthLabels)\n",
    "    si la receta no tiene ninguno en la tabla intermedia recipe_tags.\n",
    "    \"\"\"\n",
    "    supabase = get_supabase_client()\n",
    "\n",
    "    # 1. Cargar el JSONL\n",
    "    df = pd.read_json(jsonl_path, lines=True)\n",
    "\n",
    "    # 2. Recorrer cada receta en el JSONL\n",
    "    for idx, row in df.iterrows():\n",
    "        recipe_url = row[\"url\"]\n",
    "        \n",
    "        # 2.1. Obtener el recipe_id a partir de la tabla 'recipes'\n",
    "        #      Asumiendo que 'url' es única o nos vale el primer match\n",
    "        recipe_res = supabase.table(\"recipes\").select(\"id\").eq(\"url\", recipe_url).execute()\n",
    "        if not recipe_res.data:\n",
    "            # Si no existe la receta en la tabla, continuar\n",
    "            print(f\"No se encontró la receta con URL={recipe_url}\")\n",
    "            continue\n",
    "        \n",
    "        recipe_id = recipe_res.data[0][\"id\"]\n",
    "\n",
    "        # 2.2. Revisar si la tabla intermedia 'recipe_tags' ya tiene registros para recipe_id\n",
    "        tags_res = supabase.table(\"recipe_tags\").select(\"id\").eq(\"recipe_id\", recipe_id).execute()\n",
    "        if tags_res.data and len(tags_res.data) > 0:\n",
    "            # Esta receta ya tiene tags, no hacemos nada\n",
    "            print(f\"La receta con ID={recipe_id} ya tiene {len(tags_res.data)} tag(s). Omitiendo.\")\n",
    "            continue\n",
    "\n",
    "        # 2.3. No hay tags => volvemos a obtenerlos de EDAMAM\n",
    "        #      Necesitamos la lista de ingredientes en inglés como en tu código original\n",
    "        ingredientes = row[\"ingredientes\"]\n",
    "        # Construimos las cadenas: \"cantidad unidad nombre\"\n",
    "        resultados = [\n",
    "            \" \".join(filter(None, [\n",
    "                str(c) if c is not None else None,\n",
    "                u, \n",
    "                n\n",
    "            ]))\n",
    "            for n, c, u in zip(\n",
    "                ingredientes[\"nombre\"],\n",
    "                ingredientes[\"cantidad\"],\n",
    "                ingredientes[\"unidad\"]\n",
    "            )\n",
    "        ]\n",
    "        # Traducimos cada ingrediente al inglés\n",
    "        en_ingredients = [translate_es_en(e) for e in resultados]\n",
    "\n",
    "        # Número de raciones\n",
    "        serving = row[\"raciones\"] if \"raciones\" in row else 1\n",
    "\n",
    "        # Invocamos a get_nutrients para obtener healthLabels\n",
    "        nut_info, recipe_sum = get_nutrients(en_ingredients, int(serving))\n",
    "        # Controlamos si nut_info es un int => error\n",
    "        if isinstance(nut_info, int):\n",
    "            # Algo falló con la API de Edamam\n",
    "            print(f\"Error EDAMAM para receta {recipe_id}: {nut_info}\")\n",
    "            continue\n",
    "        \n",
    "        # 2.4. Insertar tags (health labels) en la BBDD\n",
    "        health_labels = recipe_sum.get(\"HealthLabels\", [])\n",
    "        if health_labels:\n",
    "            insert_tags(supabase, recipe_id, health_labels)\n",
    "            print(f\"Insertados {len(health_labels)} tags para la receta ID={recipe_id}.\")\n",
    "        else:\n",
    "            print(f\"No se encontraron etiquetas (healthLabels) para la receta ID={recipe_id}.\")\n",
    "\n",
    "        # Por si quieres pausarlo para no saturar la API\n",
    "        time.sleep(1)\n",
    "\n",
    "    print(\"Proceso completado.\")\n"
   ]
  },
  {
   "cell_type": "code",
   "execution_count": null,
   "metadata": {},
   "outputs": [
    {
     "name": "stderr",
     "output_type": "stream",
     "text": [
      "C:\\Users\\yanru\\AppData\\Local\\Temp\\ipykernel_15796\\2363481268.py:30: FutureWarning: Passing literal json to 'read_json' is deprecated and will be removed in a future version. To read from a literal string, wrap it in a 'StringIO' object.\n",
      "  df = pd.read_json(jsonl_path, lines=True)\n"
     ]
    },
    {
     "ename": "ValueError",
     "evalue": "Expected object or value",
     "output_type": "error",
     "traceback": [
      "\u001b[1;31m---------------------------------------------------------------------------\u001b[0m",
      "\u001b[1;31mValueError\u001b[0m                                Traceback (most recent call last)",
      "Cell \u001b[1;32mIn[4], line 1\u001b[0m\n\u001b[1;32m----> 1\u001b[0m \u001b[43mfill_tags_for_recipes\u001b[49m\u001b[43m(\u001b[49m\u001b[38;5;124;43mr\u001b[39;49m\u001b[38;5;124;43m'\u001b[39;49m\u001b[38;5;124;43m..\u001b[39;49m\u001b[38;5;124;43m\\\u001b[39;49m\u001b[38;5;124;43mrecetas_scrapper\u001b[39;49m\u001b[38;5;124;43m\\\u001b[39;49m\u001b[38;5;124;43mdap.jsonl\u001b[39;49m\u001b[38;5;124;43m'\u001b[39;49m\u001b[43m)\u001b[49m\n",
      "Cell \u001b[1;32mIn[3], line 30\u001b[0m, in \u001b[0;36mfill_tags_for_recipes\u001b[1;34m(jsonl_path)\u001b[0m\n\u001b[0;32m     27\u001b[0m supabase \u001b[38;5;241m=\u001b[39m get_supabase_client()\n\u001b[0;32m     29\u001b[0m \u001b[38;5;66;03m# 1. Cargar el JSONL\u001b[39;00m\n\u001b[1;32m---> 30\u001b[0m df \u001b[38;5;241m=\u001b[39m \u001b[43mpd\u001b[49m\u001b[38;5;241;43m.\u001b[39;49m\u001b[43mread_json\u001b[49m\u001b[43m(\u001b[49m\u001b[43mjsonl_path\u001b[49m\u001b[43m,\u001b[49m\u001b[43m \u001b[49m\u001b[43mlines\u001b[49m\u001b[38;5;241;43m=\u001b[39;49m\u001b[38;5;28;43;01mTrue\u001b[39;49;00m\u001b[43m)\u001b[49m\n\u001b[0;32m     32\u001b[0m \u001b[38;5;66;03m# 2. Recorrer cada receta en el JSONL\u001b[39;00m\n\u001b[0;32m     33\u001b[0m \u001b[38;5;28;01mfor\u001b[39;00m idx, row \u001b[38;5;129;01min\u001b[39;00m df\u001b[38;5;241m.\u001b[39miterrows():\n",
      "File \u001b[1;32mc:\\Users\\yanru\\anaconda3\\envs\\hotdog\\Lib\\site-packages\\pandas\\io\\json\\_json.py:815\u001b[0m, in \u001b[0;36mread_json\u001b[1;34m(path_or_buf, orient, typ, dtype, convert_axes, convert_dates, keep_default_dates, precise_float, date_unit, encoding, encoding_errors, lines, chunksize, compression, nrows, storage_options, dtype_backend, engine)\u001b[0m\n\u001b[0;32m    813\u001b[0m     \u001b[38;5;28;01mreturn\u001b[39;00m json_reader\n\u001b[0;32m    814\u001b[0m \u001b[38;5;28;01melse\u001b[39;00m:\n\u001b[1;32m--> 815\u001b[0m     \u001b[38;5;28;01mreturn\u001b[39;00m \u001b[43mjson_reader\u001b[49m\u001b[38;5;241;43m.\u001b[39;49m\u001b[43mread\u001b[49m\u001b[43m(\u001b[49m\u001b[43m)\u001b[49m\n",
      "File \u001b[1;32mc:\\Users\\yanru\\anaconda3\\envs\\hotdog\\Lib\\site-packages\\pandas\\io\\json\\_json.py:1023\u001b[0m, in \u001b[0;36mJsonReader.read\u001b[1;34m(self)\u001b[0m\n\u001b[0;32m   1021\u001b[0m         data \u001b[38;5;241m=\u001b[39m ensure_str(\u001b[38;5;28mself\u001b[39m\u001b[38;5;241m.\u001b[39mdata)\n\u001b[0;32m   1022\u001b[0m         data_lines \u001b[38;5;241m=\u001b[39m data\u001b[38;5;241m.\u001b[39msplit(\u001b[38;5;124m\"\u001b[39m\u001b[38;5;130;01m\\n\u001b[39;00m\u001b[38;5;124m\"\u001b[39m)\n\u001b[1;32m-> 1023\u001b[0m         obj \u001b[38;5;241m=\u001b[39m \u001b[38;5;28;43mself\u001b[39;49m\u001b[38;5;241;43m.\u001b[39;49m\u001b[43m_get_object_parser\u001b[49m\u001b[43m(\u001b[49m\u001b[38;5;28;43mself\u001b[39;49m\u001b[38;5;241;43m.\u001b[39;49m\u001b[43m_combine_lines\u001b[49m\u001b[43m(\u001b[49m\u001b[43mdata_lines\u001b[49m\u001b[43m)\u001b[49m\u001b[43m)\u001b[49m\n\u001b[0;32m   1024\u001b[0m \u001b[38;5;28;01melse\u001b[39;00m:\n\u001b[0;32m   1025\u001b[0m     obj \u001b[38;5;241m=\u001b[39m \u001b[38;5;28mself\u001b[39m\u001b[38;5;241m.\u001b[39m_get_object_parser(\u001b[38;5;28mself\u001b[39m\u001b[38;5;241m.\u001b[39mdata)\n",
      "File \u001b[1;32mc:\\Users\\yanru\\anaconda3\\envs\\hotdog\\Lib\\site-packages\\pandas\\io\\json\\_json.py:1051\u001b[0m, in \u001b[0;36mJsonReader._get_object_parser\u001b[1;34m(self, json)\u001b[0m\n\u001b[0;32m   1049\u001b[0m obj \u001b[38;5;241m=\u001b[39m \u001b[38;5;28;01mNone\u001b[39;00m\n\u001b[0;32m   1050\u001b[0m \u001b[38;5;28;01mif\u001b[39;00m typ \u001b[38;5;241m==\u001b[39m \u001b[38;5;124m\"\u001b[39m\u001b[38;5;124mframe\u001b[39m\u001b[38;5;124m\"\u001b[39m:\n\u001b[1;32m-> 1051\u001b[0m     obj \u001b[38;5;241m=\u001b[39m \u001b[43mFrameParser\u001b[49m\u001b[43m(\u001b[49m\u001b[43mjson\u001b[49m\u001b[43m,\u001b[49m\u001b[43m \u001b[49m\u001b[38;5;241;43m*\u001b[39;49m\u001b[38;5;241;43m*\u001b[39;49m\u001b[43mkwargs\u001b[49m\u001b[43m)\u001b[49m\u001b[38;5;241;43m.\u001b[39;49m\u001b[43mparse\u001b[49m\u001b[43m(\u001b[49m\u001b[43m)\u001b[49m\n\u001b[0;32m   1053\u001b[0m \u001b[38;5;28;01mif\u001b[39;00m typ \u001b[38;5;241m==\u001b[39m \u001b[38;5;124m\"\u001b[39m\u001b[38;5;124mseries\u001b[39m\u001b[38;5;124m\"\u001b[39m \u001b[38;5;129;01mor\u001b[39;00m obj \u001b[38;5;129;01mis\u001b[39;00m \u001b[38;5;28;01mNone\u001b[39;00m:\n\u001b[0;32m   1054\u001b[0m     \u001b[38;5;28;01mif\u001b[39;00m \u001b[38;5;129;01mnot\u001b[39;00m \u001b[38;5;28misinstance\u001b[39m(dtype, \u001b[38;5;28mbool\u001b[39m):\n",
      "File \u001b[1;32mc:\\Users\\yanru\\anaconda3\\envs\\hotdog\\Lib\\site-packages\\pandas\\io\\json\\_json.py:1187\u001b[0m, in \u001b[0;36mParser.parse\u001b[1;34m(self)\u001b[0m\n\u001b[0;32m   1185\u001b[0m \u001b[38;5;129m@final\u001b[39m\n\u001b[0;32m   1186\u001b[0m \u001b[38;5;28;01mdef\u001b[39;00m \u001b[38;5;21mparse\u001b[39m(\u001b[38;5;28mself\u001b[39m):\n\u001b[1;32m-> 1187\u001b[0m     \u001b[38;5;28;43mself\u001b[39;49m\u001b[38;5;241;43m.\u001b[39;49m\u001b[43m_parse\u001b[49m\u001b[43m(\u001b[49m\u001b[43m)\u001b[49m\n\u001b[0;32m   1189\u001b[0m     \u001b[38;5;28;01mif\u001b[39;00m \u001b[38;5;28mself\u001b[39m\u001b[38;5;241m.\u001b[39mobj \u001b[38;5;129;01mis\u001b[39;00m \u001b[38;5;28;01mNone\u001b[39;00m:\n\u001b[0;32m   1190\u001b[0m         \u001b[38;5;28;01mreturn\u001b[39;00m \u001b[38;5;28;01mNone\u001b[39;00m\n",
      "File \u001b[1;32mc:\\Users\\yanru\\anaconda3\\envs\\hotdog\\Lib\\site-packages\\pandas\\io\\json\\_json.py:1403\u001b[0m, in \u001b[0;36mFrameParser._parse\u001b[1;34m(self)\u001b[0m\n\u001b[0;32m   1399\u001b[0m orient \u001b[38;5;241m=\u001b[39m \u001b[38;5;28mself\u001b[39m\u001b[38;5;241m.\u001b[39morient\n\u001b[0;32m   1401\u001b[0m \u001b[38;5;28;01mif\u001b[39;00m orient \u001b[38;5;241m==\u001b[39m \u001b[38;5;124m\"\u001b[39m\u001b[38;5;124mcolumns\u001b[39m\u001b[38;5;124m\"\u001b[39m:\n\u001b[0;32m   1402\u001b[0m     \u001b[38;5;28mself\u001b[39m\u001b[38;5;241m.\u001b[39mobj \u001b[38;5;241m=\u001b[39m DataFrame(\n\u001b[1;32m-> 1403\u001b[0m         \u001b[43mujson_loads\u001b[49m\u001b[43m(\u001b[49m\u001b[43mjson\u001b[49m\u001b[43m,\u001b[49m\u001b[43m \u001b[49m\u001b[43mprecise_float\u001b[49m\u001b[38;5;241;43m=\u001b[39;49m\u001b[38;5;28;43mself\u001b[39;49m\u001b[38;5;241;43m.\u001b[39;49m\u001b[43mprecise_float\u001b[49m\u001b[43m)\u001b[49m, dtype\u001b[38;5;241m=\u001b[39m\u001b[38;5;28;01mNone\u001b[39;00m\n\u001b[0;32m   1404\u001b[0m     )\n\u001b[0;32m   1405\u001b[0m \u001b[38;5;28;01melif\u001b[39;00m orient \u001b[38;5;241m==\u001b[39m \u001b[38;5;124m\"\u001b[39m\u001b[38;5;124msplit\u001b[39m\u001b[38;5;124m\"\u001b[39m:\n\u001b[0;32m   1406\u001b[0m     decoded \u001b[38;5;241m=\u001b[39m {\n\u001b[0;32m   1407\u001b[0m         \u001b[38;5;28mstr\u001b[39m(k): v\n\u001b[0;32m   1408\u001b[0m         \u001b[38;5;28;01mfor\u001b[39;00m k, v \u001b[38;5;129;01min\u001b[39;00m ujson_loads(json, precise_float\u001b[38;5;241m=\u001b[39m\u001b[38;5;28mself\u001b[39m\u001b[38;5;241m.\u001b[39mprecise_float)\u001b[38;5;241m.\u001b[39mitems()\n\u001b[0;32m   1409\u001b[0m     }\n",
      "\u001b[1;31mValueError\u001b[0m: Expected object or value"
     ]
    }
   ],
   "source": [
    "fill_tags_for_recipes('C:\\Proyecto-Final\\recetas_scrapper\\recetas_scrapper\\spiders\\data\\dap.jsonl')"
   ]
  }
 ],
 "metadata": {
  "kernelspec": {
   "display_name": "hotdog",
   "language": "python",
   "name": "python3"
  },
  "language_info": {
   "codemirror_mode": {
    "name": "ipython",
    "version": 3
   },
   "file_extension": ".py",
   "mimetype": "text/x-python",
   "name": "python",
   "nbconvert_exporter": "python",
   "pygments_lexer": "ipython3",
   "version": "3.11.9"
  }
 },
 "nbformat": 4,
 "nbformat_minor": 2
}
