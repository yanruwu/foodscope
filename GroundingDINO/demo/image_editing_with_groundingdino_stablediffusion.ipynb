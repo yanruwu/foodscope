version https://git-lfs.github.com/spec/v1
oid sha256:0418790bead7627054f71d764f6fc85c245a376abfe64407bdae2e46dfb4bc3d
size 1635538
