{
 "cells": [
  {
   "cell_type": "code",
   "execution_count": 3,
   "metadata": {},
   "outputs": [
    {
     "name": "stderr",
     "output_type": "stream",
     "text": [
      "FutureWarning: Importing from timm.models.layers is deprecated, please import via timm.layers\n",
      "UserWarning: Failed to load custom C++ ops. Running on CPU mode Only!\n"
     ]
    }
   ],
   "source": [
    "from groundingdino.util.inference import load_model, predict, annotate, load_image"
   ]
  },
  {
   "cell_type": "code",
   "execution_count": 11,
   "metadata": {},
   "outputs": [
    {
     "data": {
      "text/plain": [
       "tensor([[[-1.6213, -1.6727, -1.6384,  ..., -1.6727, -1.5870, -1.4500],\n",
       "         [-1.3815, -1.4158, -1.4329,  ..., -1.3473, -1.2959, -1.1760],\n",
       "         [-1.0390, -1.0733, -1.1075,  ..., -0.9877, -0.9192, -0.8164],\n",
       "         ...,\n",
       "         [ 0.7077,  0.7248,  0.7248,  ...,  1.1187,  1.1358,  1.1700],\n",
       "         [ 0.7248,  0.7419,  0.7419,  ...,  1.1187,  1.1358,  1.1700],\n",
       "         [ 0.7591,  0.7591,  0.7419,  ...,  1.1187,  1.1358,  1.1700]],\n",
       "\n",
       "        [[-1.6506, -1.7031, -1.6681,  ..., -1.6856, -1.5980, -1.4580],\n",
       "         [-1.3880, -1.4405, -1.4405,  ..., -1.3529, -1.3004, -1.1779],\n",
       "         [-1.0378, -1.0728, -1.0903,  ..., -0.9853, -0.9153, -0.8102],\n",
       "         ...,\n",
       "         [ 0.8880,  0.8704,  0.8704,  ...,  1.3081,  1.3256,  1.3606],\n",
       "         [ 0.9055,  0.8880,  0.8880,  ...,  1.3081,  1.3256,  1.3606],\n",
       "         [ 0.9405,  0.9230,  0.8880,  ...,  1.3081,  1.3256,  1.3606]],\n",
       "\n",
       "        [[-1.5953, -1.6476, -1.6127,  ..., -1.6650, -1.5779, -1.4384],\n",
       "         [-1.3687, -1.4210, -1.4384,  ..., -1.3513, -1.2990, -1.1944],\n",
       "         [-1.0724, -1.1073, -1.1421,  ..., -1.0201, -0.9504, -0.8633],\n",
       "         ...,\n",
       "         [ 1.0539,  1.0539,  1.0539,  ...,  1.4722,  1.4897,  1.5245],\n",
       "         [ 1.0714,  1.0714,  1.0714,  ...,  1.4722,  1.4897,  1.5245],\n",
       "         [ 1.1062,  1.0888,  1.0714,  ...,  1.4722,  1.4897,  1.5245]]])"
      ]
     },
     "execution_count": 11,
     "metadata": {},
     "output_type": "execute_result"
    }
   ],
   "source": [
    "load_image('dog.jpg')[1]"
   ]
  }
 ],
 "metadata": {
  "kernelspec": {
   "display_name": "hotdog",
   "language": "python",
   "name": "python3"
  },
  "language_info": {
   "codemirror_mode": {
    "name": "ipython",
    "version": 3
   },
   "file_extension": ".py",
   "mimetype": "text/x-python",
   "name": "python",
   "nbconvert_exporter": "python",
   "pygments_lexer": "ipython3",
   "version": "3.11.9"
  }
 },
 "nbformat": 4,
 "nbformat_minor": 2
}
