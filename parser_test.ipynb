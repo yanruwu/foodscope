{
 "cells": [
  {
   "cell_type": "code",
   "execution_count": 16,
   "metadata": {},
   "outputs": [],
   "source": [
    "import spacy\n",
    "import re\n",
    "\n",
    "# Cargamos el modelo de spaCy (inglés)\n",
    "nlp = spacy.load(\"en_core_web_sm\")\n",
    "\n",
    "# Lista de posibles palabras que queremos mantener aunque sean ADJ\n",
    "# (por ejemplo, \"olive\" en \"olive oil\", \"canola\" en \"canola oil\", etc.)\n",
    "ESSENTIAL_ADJECTIVES = {\"olive\", \"canola\", \"coconut\", \"sesame\", \"almond\"}  \n",
    "# Añade más según tus necesidades\n",
    "\n",
    "\n",
    "def clean_ingredient_with_pos(text: str) -> str:\n",
    "    \"\"\"\n",
    "    Usando spaCy, tokenizamos y etiquetamos 'text'.\n",
    "    - Ignoramos tokens etiquetados como adverbios (ADV), verbos (VERB), etc.\n",
    "    - Mantenemos sustantivos (NOUN, PROPN).\n",
    "    - Mantenemos adjetivos (ADJ) sólo si consideramos que son parte esencial del ingrediente (heurística).\n",
    "    \"\"\"\n",
    "    text = text.replace(\"-\", \" \")\n",
    "    doc = nlp(text)\n",
    "    \n",
    "    keep_tokens = []\n",
    "    \n",
    "    for token in doc:\n",
    "        # Algunas reglas simples:\n",
    "        \n",
    "        # 1) Si es un sustantivo (NOUN o PROPN), lo mantenemos.\n",
    "        if token.pos_ in [\"NOUN\", \"PROPN\"]:\n",
    "            keep_tokens.append(token.text)\n",
    "        \n",
    "        # 2) Si es un adjetivo (ADJ), comprobamos si lo queremos conservar\n",
    "        #    por ejemplo \"olive\" en \"olive oil\".\n",
    "        elif token.pos_ == \"ADJ\":\n",
    "            # Si esa palabra está en ESSENTIAL_ADJECTIVES, la guardamos\n",
    "            lower_tok = token.text.lower()\n",
    "            if lower_tok in ESSENTIAL_ADJECTIVES:\n",
    "                keep_tokens.append(token.text)\n",
    "        \n",
    "        # 3) Ignoramos ADV (adverbios: “finely”) o participios (“chopped”) o “diced”, etc.\n",
    "        #    También ignoramos DET (determinantes: “the”, “a”) y conjunciones.\n",
    "        else:\n",
    "            pass  # no hacemos nada, los ignoramos\n",
    "\n",
    "    # Reconstruimos la secuencia final\n",
    "    # A veces conviene unirlo con espacios (o guiones si hiciera falta)\n",
    "    cleaned = \" \".join(keep_tokens)\n",
    "\n",
    "    # Quitamos dobles espacios, comas, etc.\n",
    "    cleaned = re.sub(r\"\\s+\", \" \", cleaned).strip(\",. \")\n",
    "    \n",
    "    return cleaned"
   ]
  },
  {
   "cell_type": "code",
   "execution_count": 18,
   "metadata": {},
   "outputs": [
    {
     "data": {
      "text/plain": [
       "'strawberries'"
      ]
     },
     "execution_count": 18,
     "metadata": {},
     "output_type": "execute_result"
    }
   ],
   "source": [
    "clean_ingredient_with_pos(\"freeze-dried strawberries\")"
   ]
  }
 ],
 "metadata": {
  "kernelspec": {
   "display_name": "hotdog",
   "language": "python",
   "name": "python3"
  },
  "language_info": {
   "codemirror_mode": {
    "name": "ipython",
    "version": 3
   },
   "file_extension": ".py",
   "mimetype": "text/x-python",
   "name": "python",
   "nbconvert_exporter": "python",
   "pygments_lexer": "ipython3",
   "version": "3.11.9"
  }
 },
 "nbformat": 4,
 "nbformat_minor": 2
}
