{
 "cells": [
  {
   "cell_type": "markdown",
   "metadata": {},
   "source": [
    "# 1. Getting the Data"
   ]
  },
  {
   "cell_type": "code",
   "execution_count": 19,
   "metadata": {},
   "outputs": [],
   "source": [
    "def dir_reduc(arr):\n",
    "    if not arr:\n",
    "        return(['NORTH', 'WEST', 'SOUTH', 'EAST'])\n",
    "    coords = [0,0]\n",
    "    for dir in arr:\n",
    "        if dir.lower() == \"south\":\n",
    "            coords[0]-=1\n",
    "        elif dir.lower() == \"north\":\n",
    "            coords[0] +=1\n",
    "        elif dir.lower() == \"east\":    \n",
    "            coords[1] +=1\n",
    "        elif dir.lower() == \"west\":\n",
    "            coords[1] -=1\n",
    "    n_num = coords[0] if coords[0]>0 else 0\n",
    "    s_num = abs(coords[0]) if coords[0]<0 else 0\n",
    "    e_num = coords[1] if coords[1]>0 else 0\n",
    "    w_num = abs(coords[1]) if coords[1]<0 else 0\n",
    "\n",
    "    print(coords)\n",
    "    return n_num*[\"NORTH\"]+s_num*[\"SOUTH\"]+e_num*[\"EAST\"]+w_num*[\"WEST\"]"
   ]
  },
  {
   "cell_type": "code",
   "execution_count": 20,
   "metadata": {},
   "outputs": [
    {
     "data": {
      "text/plain": [
       "['NORTH', 'WEST', 'SOUTH', 'EAST']"
      ]
     },
     "execution_count": 20,
     "metadata": {},
     "output_type": "execute_result"
    }
   ],
   "source": [
    "dir_reduc([]) # [\"WEST\"]"
   ]
  },
  {
   "cell_type": "code",
   "execution_count": 11,
   "metadata": {},
   "outputs": [],
   "source": [
    "import scrapy\n",
    "from scrapy.crawler import CrawlerProcess\n",
    "import re  # Para usar expresiones regulares\n",
    "import pandas as pd"
   ]
  },
  {
   "cell_type": "code",
   "execution_count": 12,
   "metadata": {},
   "outputs": [],
   "source": [
    "df = pd.read_json(r\"recetas_scrapper\\recetas_scrapper\\recetas_dap_no_delay.jsonl\", lines = True)"
   ]
  },
  {
   "cell_type": "code",
   "execution_count": 13,
   "metadata": {},
   "outputs": [
    {
     "data": {
      "text/plain": [
       "np.int64(613)"
      ]
     },
     "execution_count": 13,
     "metadata": {},
     "output_type": "execute_result"
    }
   ],
   "source": [
    "df[\"url\"].duplicated().sum()"
   ]
  },
  {
   "cell_type": "code",
   "execution_count": 14,
   "metadata": {},
   "outputs": [
    {
     "data": {
      "text/plain": [
       "'https://www.directoalpaladar.com/recetas-de-pescados-y-mariscos/croquetas-de-merluza-y-gambas-receta'"
      ]
     },
     "execution_count": 14,
     "metadata": {},
     "output_type": "execute_result"
    }
   ],
   "source": [
    "df[\"url\"].sample().values[0]"
   ]
  },
  {
   "cell_type": "code",
   "execution_count": 24,
   "metadata": {},
   "outputs": [],
   "source": [
    "steps = df[\"instrucciones\"].sample().values[0]"
   ]
  },
  {
   "cell_type": "code",
   "execution_count": 15,
   "metadata": {},
   "outputs": [],
   "source": [
    "from deep_translator import GoogleTranslator"
   ]
  },
  {
   "cell_type": "code",
   "execution_count": 26,
   "metadata": {},
   "outputs": [
    {
     "data": {
      "text/plain": [
       "'Making bruschetta is a simple task, but it is important to do it well so that it is delicious and to the taste of the diners. Therefore, the fundamental part is the preparation of the ingredients or mise en place, which is necessary to be able to synchronize the times and thus serve it warm and at its best. We begin by washing the basil, drying it well and separating the leaves. We also save some florets or tips to decorate or top the bruschetta when they are ready to serve. We also cut the fresh mozzarella into slices, and the cherry tomatoes into small, manageable pieces. While we do this task, we put the grill to heat and toast the slices of bread so that they are crispy and warm and so that they can support the weight of the ingredients without bending or getting too wet. When we turn the toasts over, we take the opportunity to put the mozzarella on the grill for a few seconds so that it melts slightly. To assemble the bruschetta, put a little olive oil on the bread, place the basil leaves on top and put the mozzarella on top of them. All that remains is to fill the gaps by distributing the cherry tomato pieces, making sure that the different colours are evenly distributed, and decorate with the bouquet or basil flower.'"
      ]
     },
     "execution_count": 26,
     "metadata": {},
     "output_type": "execute_result"
    }
   ],
   "source": [
    "GoogleTranslator(source='auto', target='en').translate(steps) "
   ]
  },
  {
   "cell_type": "code",
   "execution_count": 1,
   "metadata": {},
   "outputs": [
    {
     "data": {
      "application/vnd.jupyter.widget-view+json": {
       "model_id": "3675208b4ba74e6bad9ade97a2c8993e",
       "version_major": 2,
       "version_minor": 0
      },
      "text/plain": [
       "model.safetensors:   0%|          | 0.00/436M [00:00<?, ?B/s]"
      ]
     },
     "metadata": {},
     "output_type": "display_data"
    },
    {
     "name": "stderr",
     "output_type": "stream",
     "text": [
      "c:\\Users\\yanru\\anaconda3\\envs\\hotdog\\Lib\\site-packages\\huggingface_hub\\file_download.py:140: UserWarning: `huggingface_hub` cache-system uses symlinks by default to efficiently store duplicated files but your machine does not support them in C:\\Users\\yanru\\.cache\\huggingface\\hub\\models--bert-base-cased. Caching files will still work but in a degraded version that might require more space on your disk. This warning can be disabled by setting the `HF_HUB_DISABLE_SYMLINKS_WARNING` environment variable. For more details, see https://huggingface.co/docs/huggingface_hub/how-to-cache#limitations.\n",
      "To support symlinks on Windows, you either need to activate Developer Mode or to run Python as an administrator. In order to activate developer mode, see this article: https://docs.microsoft.com/en-us/windows/apps/get-started/enable-your-device-for-development\n",
      "  warnings.warn(message)\n",
      "Some weights of BertForTokenClassification were not initialized from the model checkpoint at bert-base-cased and are newly initialized: ['classifier.bias', 'classifier.weight']\n",
      "You should probably TRAIN this model on a down-stream task to be able to use it for predictions and inference.\n",
      "Device set to use cpu\n"
     ]
    },
    {
     "name": "stdout",
     "output_type": "stream",
     "text": [
      "[{'entity_group': 'LABEL_1', 'score': np.float32(0.5300181), 'word': '100 grams', 'start': 0, 'end': 9}, {'entity_group': 'LABEL_0', 'score': np.float32(0.5951523), 'word': 'of sugar', 'start': 10, 'end': 18}]\n"
     ]
    }
   ],
   "source": [
    "from transformers import AutoTokenizer, AutoModelForTokenClassification, pipeline\n",
    "\n",
    "\n",
    "model_name = \"bert-base-cased\"\n",
    "tokenizer = AutoTokenizer.from_pretrained(model_name)\n",
    "model = AutoModelForTokenClassification.from_pretrained(model_name)\n",
    "\n",
    "ner_pipeline = pipeline(\"ner\", model=model, tokenizer=tokenizer, aggregation_strategy=\"simple\")\n",
    "\n",
    "ingredient_text = \"100 grams of sugar\"\n",
    "\n",
    "entities = ner_pipeline(ingredient_text)\n",
    "print(entities)\n"
   ]
  },
  {
   "cell_type": "code",
   "execution_count": 2,
   "metadata": {},
   "outputs": [],
   "source": [
    "import asyncio\n",
    "import aiohttp\n",
    "\n",
    "async def fetch(session, url):\n",
    "    async with session.get(url) as response:\n",
    "        return response.status\n",
    "\n",
    "async def make_requests():\n",
    "    async with aiohttp.ClientSession() as session:\n",
    "        tasks = [fetch(session, \"https://www.hackio.com/\") for _ in range(10000)]\n",
    "        results = await tqdm_asyncio.gather(*tasks)\n",
    "    return results\n",
    "\n",
    "loop = asyncio.get_event_loop()\n",
    "\n"
   ]
  }
 ],
 "metadata": {
  "kernelspec": {
   "display_name": "Python 3",
   "language": "python",
   "name": "python3"
  },
  "language_info": {
   "codemirror_mode": {
    "name": "ipython",
    "version": 3
   },
   "file_extension": ".py",
   "mimetype": "text/x-python",
   "name": "python",
   "nbconvert_exporter": "python",
   "pygments_lexer": "ipython3",
   "version": "3.11.9"
  }
 },
 "nbformat": 4,
 "nbformat_minor": 2
}
