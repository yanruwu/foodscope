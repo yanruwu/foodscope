{
 "cells": [
  {
   "cell_type": "markdown",
   "metadata": {},
   "source": [
    "# Beautiful Soup (**UNUSED**)"
   ]
  },
  {
   "cell_type": "code",
   "execution_count": 2,
   "metadata": {},
   "outputs": [],
   "source": [
    "from bs4 import BeautifulSoup\n",
    "import requests\n",
    "import pandas as pd"
   ]
  },
  {
   "cell_type": "code",
   "execution_count": 17,
   "metadata": {},
   "outputs": [],
   "source": [
    "response = requests.get(\"https://www.directoalpaladar.com/postres/flan-castanas-receta-facil-rapida-postre-tipico-galicia\")"
   ]
  },
  {
   "cell_type": "code",
   "execution_count": 18,
   "metadata": {},
   "outputs": [],
   "source": [
    "soup = BeautifulSoup(response.content, 'html.parser')"
   ]
  },
  {
   "cell_type": "code",
   "execution_count": 19,
   "metadata": {},
   "outputs": [],
   "source": [
    "ingredient_container = soup.find(\"ul\", \"asset-recipe-list\")\n",
    "ingredientes_nombres = [e.find(\"span\", \"asset-recipe-ingr-name\").text.strip() for e in ingredient_container.findAll(\"li\")]\n",
    "cantidades_unidades = [\n",
    "    (int(a.find(\"span\", \"asset-recipe-ingr-amount\").contents[0].strip()),\n",
    "     a.find(\"span\", \"asset-recipe-ingr-amount\").find(\"abbr\").text)\n",
    "    if a.find(\"span\", \"asset-recipe-ingr-amount\") else None\n",
    "    for a in ingredient_container.findAll(\"li\")\n",
    "]\n",
    "\n",
    "\n",
    "ingredient_dict = {\"nombre\" : ingredientes_nombres, \"cantidad\" : [i[0] if i else None for i in cantidades_unidades ], \"unidad\" : [i[1]if i else None for i in cantidades_unidades]}"
   ]
  },
  {
   "cell_type": "code",
   "execution_count": 20,
   "metadata": {},
   "outputs": [
    {
     "data": {
      "text/html": [
       "<div>\n",
       "<style scoped>\n",
       "    .dataframe tbody tr th:only-of-type {\n",
       "        vertical-align: middle;\n",
       "    }\n",
       "\n",
       "    .dataframe tbody tr th {\n",
       "        vertical-align: top;\n",
       "    }\n",
       "\n",
       "    .dataframe thead th {\n",
       "        text-align: right;\n",
       "    }\n",
       "</style>\n",
       "<table border=\"1\" class=\"dataframe\">\n",
       "  <thead>\n",
       "    <tr style=\"text-align: right;\">\n",
       "      <th></th>\n",
       "      <th>nombre</th>\n",
       "      <th>cantidad</th>\n",
       "      <th>unidad</th>\n",
       "    </tr>\n",
       "  </thead>\n",
       "  <tbody>\n",
       "    <tr>\n",
       "      <th>0</th>\n",
       "      <td>Crema de castañas (un bote)</td>\n",
       "      <td>370</td>\n",
       "      <td>g</td>\n",
       "    </tr>\n",
       "    <tr>\n",
       "      <th>1</th>\n",
       "      <td>Leche</td>\n",
       "      <td>360</td>\n",
       "      <td>ml</td>\n",
       "    </tr>\n",
       "    <tr>\n",
       "      <th>2</th>\n",
       "      <td>Huevo M</td>\n",
       "      <td>3</td>\n",
       "      <td></td>\n",
       "    </tr>\n",
       "    <tr>\n",
       "      <th>3</th>\n",
       "      <td>Caramelo líquido</td>\n",
       "      <td>75</td>\n",
       "      <td>g</td>\n",
       "    </tr>\n",
       "  </tbody>\n",
       "</table>\n",
       "</div>"
      ],
      "text/plain": [
       "                        nombre  cantidad unidad\n",
       "0  Crema de castañas (un bote)       370      g\n",
       "1                        Leche       360     ml\n",
       "2                      Huevo M         3       \n",
       "3             Caramelo líquido        75      g"
      ]
     },
     "execution_count": 20,
     "metadata": {},
     "output_type": "execute_result"
    }
   ],
   "source": [
    "pd.DataFrame(ingredient_dict)"
   ]
  },
  {
   "cell_type": "code",
   "execution_count": 22,
   "metadata": {},
   "outputs": [
    {
     "name": "stdout",
     "output_type": "stream",
     "text": [
      "En un recipiente amplio y hondo mezclamos la crema de castañas con la leche. Se integrarán mejor si ambos ingredientes están ligeramente tibios. Añadimos los huevos y removemos para que se mezclen bien los tres ingredientes. No hace falta añadir azúcar, pues la crema de castañas la lleva incorporada.       Colocamos las flaneras en una fuente de horno y repartimos el caramelo líquido entre ellas. Después las rellenamos con la mezcla anterior. Vertemos agua caliente en cantidad suficiente para que cubra la mitad de las flaneras y llevamos la fuente al horno, precalentado a 180 ºC con calor arriba y abajo. Cocemos al baño maría durante 40 minutos. Dejamos enfriar antes de desmoldar y servir.\n"
     ]
    }
   ],
   "source": [
    "print(soup.find(\"div\", \"asset-recipe-steps\").get_text().strip().replace(\"\\n\", \" \"))"
   ]
  }
 ],
 "metadata": {
  "kernelspec": {
   "display_name": "Python 3",
   "language": "python",
   "name": "python3"
  },
  "language_info": {
   "codemirror_mode": {
    "name": "ipython",
    "version": 3
   },
   "file_extension": ".py",
   "mimetype": "text/x-python",
   "name": "python",
   "nbconvert_exporter": "python",
   "pygments_lexer": "ipython3",
   "version": "3.11.9"
  }
 },
 "nbformat": 4,
 "nbformat_minor": 2
}
